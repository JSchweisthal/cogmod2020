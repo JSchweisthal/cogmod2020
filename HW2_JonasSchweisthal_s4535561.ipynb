{
 "cells": [
  {
   "cell_type": "markdown",
   "metadata": {},
   "source": [
    "# Homework \\#2\n",
    "Name: Jonas Schweisthal \\\n",
    "Student number: s4535561"
   ]
  },
  {
   "cell_type": "code",
   "execution_count": 1,
   "metadata": {},
   "outputs": [],
   "source": [
    "from model import Model\n",
    "from dmchunk import Chunk\n",
    "import matplotlib.pyplot as plt\n",
    "import pandas as pd\n",
    "import numpy as np"
   ]
  },
  {
   "cell_type": "code",
   "execution_count": 2,
   "metadata": {},
   "outputs": [],
   "source": [
    "def ready_set_go(n_participants, n_trials = 1500):\n",
    "    subjects = range(1,n_participants+1)\n",
    "    conditions = [1, 2, 3]\n",
    "    trials = range(1,n_trials+1)\n",
    "    \n",
    "    df = pd.DataFrame(columns = [\"Subj\", \"Cond\", \"line\", \"Trial\", \"Ts\", \"Tp\", \"Main\"])\n",
    "    main = False\n",
    "    line = 0\n",
    "    for subj in subjects:\n",
    "        for cond in conditions:\n",
    "            # create a new model for each subject and condition as there's much time between testing the \n",
    "            # different conditions per subject\n",
    "            m = Model() \n",
    "            for trial in trials:\n",
    "                line += 1\n",
    "                # Checking if trial is training trial\n",
    "                if trial > 500:\n",
    "                    main = True\n",
    "                # 1 second preparing time\n",
    "                m.time += 1 \n",
    "                # no exact infos for truncated exponential distribution of random delay in paper:\n",
    "                # -> simplifed with continuos random uniform \n",
    "                delay = np.random.uniform(0.25, 0.85)\n",
    "                m.time += delay\n",
    "                # draw out of 11 discrete values of discrete uniform distribution per condition\n",
    "                # rounding necessary for equalling overlapping values of conditions\n",
    "                if cond == 1:\n",
    "                    ts = np.random.choice(np.linspace(0.49409, 0.84701, 11).round(4))\n",
    "                elif cond == 2:\n",
    "                    ts = np.random.choice(np.linspace(0.67055, 1.0235, 11).round(4))\n",
    "                elif cond == 3:\n",
    "                    ts = np.random.choice(np.linspace(0.84701, 1.1999, 11).round(4))\n",
    "                m.time += ts\n",
    "                # hard-code the response in each trial so that it is identical to the presented interval \n",
    "                tp = ts\n",
    "                m.time += tp\n",
    "                # store times in milliseconds in dataframe\n",
    "                df.loc[line-1] = [subj, cond, line, trial, ts*1000, tp*1000, main]\n",
    "                \n",
    "    return df"
   ]
  },
  {
   "cell_type": "code",
   "execution_count": 3,
   "metadata": {},
   "outputs": [],
   "source": [
    "df = ready_set_go(5)"
   ]
  },
  {
   "cell_type": "code",
   "execution_count": 4,
   "metadata": {},
   "outputs": [
    {
     "name": "stderr",
     "output_type": "stream",
     "text": [
      "C:\\Users\\jonas\\AppData\\Roaming\\Python\\Python37\\site-packages\\matplotlib\\cbook\\__init__.py:1402: FutureWarning: Support for multi-dimensional indexing (e.g. `obj[:, None]`) is deprecated and will be removed in a future version.  Convert to a numpy array before indexing instead.\n",
      "  x[:, None]\n",
      "C:\\Users\\jonas\\AppData\\Roaming\\Python\\Python37\\site-packages\\matplotlib\\axes\\_base.py:276: FutureWarning: Support for multi-dimensional indexing (e.g. `obj[:, None]`) is deprecated and will be removed in a future version.  Convert to a numpy array before indexing instead.\n",
      "  x = x[:, np.newaxis]\n",
      "C:\\Users\\jonas\\AppData\\Roaming\\Python\\Python37\\site-packages\\matplotlib\\axes\\_base.py:278: FutureWarning: Support for multi-dimensional indexing (e.g. `obj[:, None]`) is deprecated and will be removed in a future version.  Convert to a numpy array before indexing instead.\n",
      "  y = y[:, np.newaxis]\n"
     ]
    },
    {
     "data": {
      "text/plain": [
       "<matplotlib.legend.Legend at 0x203cfa1b388>"
      ]
     },
     "execution_count": 4,
     "metadata": {},
     "output_type": "execute_result"
    },
    {
     "data": {
      "image/png": "[encoded data removed]",
      "text/plain": [
       "<Figure size 432x432 with 1 Axes>"
      ]
     },
     "metadata": {
      "needs_background": "light"
     },
     "output_type": "display_data"
    }
   ],
   "source": [
    "# Remove training trials\n",
    "dat = df[df['Main'] == True]\n",
    "\n",
    "# Calculate mean Tp by condition\n",
    "mean_tp = dat.groupby(['Cond', 'Ts'])['Tp'].mean().reset_index()\n",
    "\n",
    "\n",
    "yrange = np.multiply((min(mean_tp['Ts']), max(mean_tp['Ts'])), [0.95, 1.05])\n",
    "\n",
    "# Subset data for plotting\n",
    "\n",
    "cond1 = mean_tp.loc[mean_tp['Cond'] == 1]\n",
    "cond2 = mean_tp.loc[mean_tp['Cond'] == 2]\n",
    "cond3 = mean_tp.loc[mean_tp['Cond'] == 3]\n",
    "\n",
    "# Add jitter noise\n",
    "jitter = dat.copy()\n",
    "jitter['Ts'] = jitter['Ts'] + np.random.uniform(-5, 5, len(dat))\n",
    "cond1_jitter = jitter.loc[jitter['Cond'] == 1]\n",
    "cond2_jitter = jitter.loc[jitter['Cond'] == 2]\n",
    "cond3_jitter = jitter.loc[jitter['Cond'] == 3]\n",
    "\n",
    "# Make plot\n",
    "f, ax = plt.subplots(figsize = (6,6))\n",
    "\n",
    "ax.set(xlim = yrange, ylim = yrange)\n",
    "f.gca().set_aspect('equal', adjustable = 'box')\n",
    "\n",
    "ax.set_xlabel('Sample interval (ms)')\n",
    "ax.set_ylabel('Production time (ms)')\n",
    "\n",
    "ax.plot(yrange, yrange, linestyle = '--', color ='gray')\n",
    "\n",
    "ax.scatter(cond1_jitter['Ts'], cond1_jitter['Tp'], marker = '.', color = 'black', alpha = 0.025, label = None)\n",
    "ax.scatter(cond2_jitter['Ts'], cond2_jitter['Tp'], marker = '.', color = 'brown', alpha = 0.025, label = None)\n",
    "ax.scatter(cond3_jitter['Ts'], cond3_jitter['Tp'], marker = '.', color = 'red', alpha = 0.025, label = None)\n",
    "\n",
    "ax.plot(cond1['Ts'], cond1['Tp'], color = 'black', marker = 'o', label = \"short\")\n",
    "ax.plot(cond2['Ts'], cond2['Tp'], color = 'brown', marker = 'o', label = \"intermediate\")\n",
    "ax.plot(cond3['Ts'], cond3['Tp'], color = 'red', marker = 'o', label = \"long\")\n",
    "\n",
    "ax.legend(title = 'Prior condition', loc = 4)"
   ]
  }
 ],
 "metadata": {
  "kernelspec": {
   "display_name": "Python 3",
   "language": "python",
   "name": "python3"
  },
  "language_info": {
   "codemirror_mode": {
    "name": "ipython",
    "version": 3
   },
   "file_extension": ".py",
   "mimetype": "text/x-python",
   "name": "python",
   "nbconvert_exporter": "python",
   "pygments_lexer": "ipython3",
   "version": "3.7.8"
  }
 },
 "nbformat": 4,
 "nbformat_minor": 4
}

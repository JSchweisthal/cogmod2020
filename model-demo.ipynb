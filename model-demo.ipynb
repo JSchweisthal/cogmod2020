{
 "cells": [
  {
   "cell_type": "markdown",
   "metadata": {},
   "source": [
    "# Model demo"
   ]
  },
  {
   "cell_type": "code",
   "execution_count": 1,
   "metadata": {},
   "outputs": [],
   "source": [
    "from model import Model\n",
    "from dmchunk import Chunk\n",
    "import numpy as np\n",
    "import matplotlib.pyplot as plt"
   ]
  },
  {
   "cell_type": "markdown",
   "metadata": {},
   "source": [
    "## Creating a model"
   ]
  },
  {
   "cell_type": "code",
   "execution_count": 2,
   "metadata": {},
   "outputs": [],
   "source": [
    "m = Model()"
   ]
  },
  {
   "cell_type": "markdown",
   "metadata": {},
   "source": [
    "We can use `print(m)` to print an overview of the model:"
   ]
  },
  {
   "cell_type": "code",
   "execution_count": 3,
   "metadata": {},
   "outputs": [
    {
     "name": "stdout",
     "output_type": "stream",
     "text": [
      "\n",
      "=== Model ===\n",
      "Time: 0 s \n",
      "Goal:None\n",
      "DM:\n",
      "\n"
     ]
    }
   ],
   "source": [
    "print(m)"
   ]
  },
  {
   "cell_type": "markdown",
   "metadata": {},
   "source": [
    "## Setting a goal"
   ]
  },
  {
   "cell_type": "markdown",
   "metadata": {},
   "source": [
    "Add a chunk to the model's goal buffer. We can specify a chunk name and any number of slots (as a dictionary). Here we first create a chunk with the name \"goal-chunk\" that has two slots."
   ]
  },
  {
   "cell_type": "code",
   "execution_count": 4,
   "metadata": {},
   "outputs": [],
   "source": [
    "g = Chunk(name = \"goal-chunk\", slots = {\"goal\": \"count\", \"current\": \"two\"})\n",
    "m.goal = g"
   ]
  },
  {
   "cell_type": "markdown",
   "metadata": {},
   "source": [
    "Check that the goal is added to the model:"
   ]
  },
  {
   "cell_type": "code",
   "execution_count": 5,
   "metadata": {},
   "outputs": [
    {
     "name": "stdout",
     "output_type": "stream",
     "text": [
      "\n",
      "=== Model ===\n",
      "Time: 0 s \n",
      "Goal:Chunk goal-chunk\n",
      "Slots: {'goal': 'count', 'current': 'two'}\n",
      "Encounters: []\n",
      "Fan: 0\n",
      "\n",
      "DM:\n",
      "\n"
     ]
    }
   ],
   "source": [
    "print(m)"
   ]
  },
  {
   "cell_type": "markdown",
   "metadata": {},
   "source": [
    "## Adding chunks to memory"
   ]
  },
  {
   "cell_type": "markdown",
   "metadata": {},
   "source": [
    "Here we add some chunks to the model's declarative memory (at t = 0)."
   ]
  },
  {
   "cell_type": "code",
   "execution_count": 6,
   "metadata": {},
   "outputs": [],
   "source": [
    "c1 = Chunk(name = \"c1\", slots = {\"type\": \"numbers\", \"val1\": 1, \"val2\": 2, \"word\": \"two\"})\n",
    "c2 = Chunk(name = \"c2\", slots = {\"type\": \"numbers\", \"val1\": 2, \"val2\": 3, \"word\": \"three\"})\n",
    "\n",
    "m.add_encounter(c1)\n",
    "m.add_encounter(c2)"
   ]
  },
  {
   "cell_type": "markdown",
   "metadata": {},
   "source": [
    "Add some more encounters of these chunks."
   ]
  },
  {
   "cell_type": "code",
   "execution_count": 7,
   "metadata": {},
   "outputs": [],
   "source": [
    "m.time += 15 # Advance the model time by 15 seconds\n",
    "m.add_encounter(c2)\n",
    "\n",
    "m.time += 20\n",
    "m.add_encounter(c1)\n",
    "\n",
    "m.time += 5\n",
    "m.add_encounter(c2)"
   ]
  },
  {
   "cell_type": "markdown",
   "metadata": {},
   "source": [
    "Let's see what the model looks like now:"
   ]
  },
  {
   "cell_type": "code",
   "execution_count": 8,
   "metadata": {},
   "outputs": [
    {
     "name": "stdout",
     "output_type": "stream",
     "text": [
      "\n",
      "=== Model ===\n",
      "Time: 40 s \n",
      "Goal:Chunk goal-chunk\n",
      "Slots: {'goal': 'count', 'current': 'two'}\n",
      "Encounters: []\n",
      "Fan: 0\n",
      "\n",
      "DM:Chunk c1\n",
      "Slots: {'type': 'numbers', 'val1': 1, 'val2': 2, 'word': 'two'}\n",
      "Encounters: [0, 35]\n",
      "Fan: 0\n",
      "\n",
      "Chunk numbers\n",
      "Slots: {}\n",
      "Encounters: [0]\n",
      "Fan: 2\n",
      "\n",
      "Chunk two\n",
      "Slots: {}\n",
      "Encounters: [0]\n",
      "Fan: 1\n",
      "\n",
      "Chunk c2\n",
      "Slots: {'type': 'numbers', 'val1': 2, 'val2': 3, 'word': 'three'}\n",
      "Encounters: [0, 15, 40]\n",
      "Fan: 0\n",
      "\n",
      "Chunk three\n",
      "Slots: {}\n",
      "Encounters: [0]\n",
      "Fan: 1\n",
      "\n",
      "\n"
     ]
    }
   ],
   "source": [
    "print(m)"
   ]
  },
  {
   "cell_type": "markdown",
   "metadata": {},
   "source": [
    "Notice that, even though we've only added two chunks to the model's DM, it contains more chunks. These other chunks are the \"singleton\" chunks that our own chunks refer to in each of their slots. Only string chunks will be added to DM, numbers are not considered to be chunks."
   ]
  },
  {
   "cell_type": "markdown",
   "metadata": {},
   "source": [
    "## Activation"
   ]
  },
  {
   "cell_type": "markdown",
   "metadata": {},
   "source": [
    "We can get the activation of a chunk at the current time using the `get_activation()` method."
   ]
  },
  {
   "cell_type": "code",
   "execution_count": 9,
   "metadata": {},
   "outputs": [
    {
     "name": "stdout",
     "output_type": "stream",
     "text": [
      "c1: 0.255769\n",
      "c2: -1.129863\n"
     ]
    }
   ],
   "source": [
    "print(\"c1: %f\" % m.get_activation(c1))\n",
    "print(\"c2: %f\" % m.get_activation(c2))"
   ]
  },
  {
   "cell_type": "code",
   "execution_count": 10,
   "metadata": {},
   "outputs": [],
   "source": [
    "m.time += .1"
   ]
  },
  {
   "cell_type": "markdown",
   "metadata": {},
   "source": [
    "### Spreading activation from goal\n",
    "\n",
    "The chunk c1 has a slot value in common with the chunk in the goal buffer, which means that there is spreading activation from the goal to this chunk (but not to c2, which does not share any slot values with the goal chunk). We can confirm this by printing the spreading activation on its own:"
   ]
  },
  {
   "cell_type": "code",
   "execution_count": 11,
   "metadata": {},
   "outputs": [
    {
     "name": "stdout",
     "output_type": "stream",
     "text": [
      "c1: 1.000000\n",
      "c2: 0.000000\n"
     ]
    }
   ],
   "source": [
    "print(\"c1: %f\" % m.get_spreading_activation_from_goal(c1))\n",
    "print(\"c2: %f\" % m.get_spreading_activation_from_goal(c2))"
   ]
  },
  {
   "cell_type": "markdown",
   "metadata": {},
   "source": [
    "Right now, the model only implements goal activation spreading. This means that the standard ACT-R spreading equation is simplified a bit. The spreading activation from the goal to chunk $i$ is\n",
    "\n",
    "$S_i = \\sum_{j}w_{j}s_{ji}$\n",
    "\n",
    "where $j$ is the number of sources (i.e., slots) in the goal buffer, $w_j$ is the goal activation (parameter `ga`) divided by $j$, and $s_{ji}$ is the strength of association from the goal slot $j$ to chunk $i$, which depends on the maximum spreading association (`mas`) parameter and the fan of the slots in chunk $i$."
   ]
  },
  {
   "cell_type": "markdown",
   "metadata": {},
   "source": [
    "### Plotting\n",
    "\n",
    "Plot the activation of c2 in the first minute:"
   ]
  },
  {
   "cell_type": "code",
   "execution_count": 12,
   "metadata": {},
   "outputs": [
    {
     "data": {
      "text/plain": [
       "[<matplotlib.lines.Line2D at 0x1d8e7d67288>]"
      ]
     },
     "execution_count": 12,
     "metadata": {},
     "output_type": "execute_result"
    },
    {
     "data": {
      "image/png": "[encoded data removed]",
      "text/plain": [
       "<Figure size 432x288 with 1 Axes>"
      ]
     },
     "metadata": {
      "needs_background": "light"
     },
     "output_type": "display_data"
    }
   ],
   "source": [
    "x = np.linspace(start = 0, stop = 60, num = 1000)\n",
    "bl = []\n",
    "for i in x:\n",
    "    m.time = i + 0.001\n",
    "    bl.append(m.get_activation(c2))\n",
    "    \n",
    "plt.plot(x, bl)"
   ]
  },
  {
   "cell_type": "markdown",
   "metadata": {},
   "source": [
    "Plot the retrieval latency (directly related to activation) of c2:"
   ]
  },
  {
   "cell_type": "code",
   "execution_count": 13,
   "metadata": {},
   "outputs": [
    {
     "data": {
      "text/plain": [
       "[<matplotlib.lines.Line2D at 0x1d8f2f68108>]"
      ]
     },
     "execution_count": 13,
     "metadata": {},
     "output_type": "execute_result"
    },
    {
     "data": {
      "image/png": "[encoded data removed]",
      "text/plain": [
       "<Figure size 432x288 with 1 Axes>"
      ]
     },
     "metadata": {
      "needs_background": "light"
     },
     "output_type": "display_data"
    }
   ],
   "source": [
    "x = np.linspace(start = 0, stop = 60, num = 1000)\n",
    "lat = []\n",
    "for i in x:\n",
    "    m.time = i + 0.001\n",
    "    lat.append(m.get_latency(c2))\n",
    "    \n",
    "plt.plot(x, lat)"
   ]
  },
  {
   "cell_type": "markdown",
   "metadata": {},
   "source": [
    "## Retrieving a chunk from memory\n",
    "We can retrieve a chunk from memory with a retrieval pattern. We use a Chunk as a representation for that pattern:"
   ]
  },
  {
   "cell_type": "code",
   "execution_count": 14,
   "metadata": {},
   "outputs": [],
   "source": [
    "pattern = Chunk(name = \"retrieve\", slots = {\"type\": \"numbers\", \"val1\" : 1})"
   ]
  },
  {
   "cell_type": "code",
   "execution_count": 15,
   "metadata": {},
   "outputs": [
    {
     "name": "stdout",
     "output_type": "stream",
     "text": [
      "Chunk c1\n",
      "Slots: {'type': 'numbers', 'val1': 1, 'val2': 2, 'word': 'two'}\n",
      "Encounters: [0, 35]\n",
      "Fan: 0\n",
      "\n",
      "0.10793245586386052\n"
     ]
    }
   ],
   "source": [
    "chunk, latency = m.retrieve(pattern)\n",
    "print(chunk)\n",
    "print(latency)"
   ]
  },
  {
   "cell_type": "markdown",
   "metadata": {},
   "source": [
    "Retrieval failure example:"
   ]
  },
  {
   "cell_type": "code",
   "execution_count": 16,
   "metadata": {},
   "outputs": [
    {
     "name": "stdout",
     "output_type": "stream",
     "text": [
      "None\n",
      "0.27182818284590454\n"
     ]
    }
   ],
   "source": [
    "pattern = Chunk(name = \"test\", slots = {\"type\" : \"letters\"})\n",
    "chunk, latency = m.retrieve(pattern)\n",
    "print(chunk)\n",
    "print(latency)"
   ]
  },
  {
   "cell_type": "markdown",
   "metadata": {},
   "source": [
    "## Blending\n",
    "\n",
    "Aside from retrieving a single chunk, we can also retrieve a *blended trace* (see Taatgen & van Rijn, 2011). This works in much the same way as a normal retrieval, except that we also have to specify the slot for which we want the blended trace.\n",
    "\n",
    "Blending only works with numerical slot values, so let's make a few new chunks representing some observations of game scores, and add them to the model's DM."
   ]
  },
  {
   "cell_type": "code",
   "execution_count": 17,
   "metadata": {},
   "outputs": [],
   "source": [
    "d1 = Chunk(name = \"score1\", slots = {\"type\": \"gamescore\", \"score\": 10})\n",
    "m.add_encounter(d1)\n",
    "\n",
    "m.time += 1\n",
    "\n",
    "d2 = Chunk(name = \"score2\", slots = {\"type\": \"gamescore\", \"score\": 15})\n",
    "m.add_encounter(d2)\n",
    "\n",
    "m.time += 1\n",
    "\n",
    "d3 = Chunk(name = \"score3\", slots = {\"type\": \"gamescore\", \"score\": 20})\n",
    "m.add_encounter(d3)\n",
    "\n",
    "m.time += 1"
   ]
  },
  {
   "cell_type": "markdown",
   "metadata": {},
   "source": [
    "We can now retrieve a blended trace of the game score, representing the model's general assessment of its game performance. (Note that we specify a pattern in the same way as before, but that we also tell the model that we want a blended trace of the `score` slot specifically.) The function returns a pair containing the the blended value of for the specified slot and the latency.\n",
    "\n",
    "(Note that the latency of a blended retrieval is just based on the retrieval threshold, so it doesn't tell you anything about the activation of the chunks involved, unlike the latency of a regular retrieval.)"
   ]
  },
  {
   "cell_type": "code",
   "execution_count": 18,
   "metadata": {},
   "outputs": [
    {
     "name": "stdout",
     "output_type": "stream",
     "text": [
      "(18.7707704696836, 0.27182818284590454)\n"
     ]
    }
   ],
   "source": [
    "blend_pattern = Chunk(name = \"blended-test\", slots = {\"type\": \"gamescore\"})\n",
    "\n",
    "print(m.retrieve_blended_trace(blend_pattern, \"score\"))"
   ]
  },
  {
   "cell_type": "markdown",
   "metadata": {},
   "source": [
    "Examples of invalid requests for a blended retrieval:"
   ]
  },
  {
   "cell_type": "code",
   "execution_count": 19,
   "metadata": {},
   "outputs": [
    {
     "name": "stdout",
     "output_type": "stream",
     "text": [
      "(None, 0.27182818284590454)\n",
      "(None, 0.27182818284590454)\n"
     ]
    }
   ],
   "source": [
    "# Slot does not exist\n",
    "print(m.retrieve_blended_trace(blend_pattern, \"non-existstent-slot\"))\n",
    "\n",
    "# Pattern does not match any chunks in DM\n",
    "blend_pattern = Chunk(name = \"blended-test\", slots = {\"type\": \"letters\"})\n",
    "print(m.retrieve_blended_trace(blend_pattern, \"score\"))"
   ]
  },
  {
   "cell_type": "markdown",
   "metadata": {},
   "source": [
    "### Partial Matching\n",
    "Partial matching can retrieve chunks that do not completely match the request. The current implementation only calculates the mismatch of numerical slot values."
   ]
  },
  {
   "cell_type": "markdown",
   "metadata": {},
   "source": [
    "Example: Retrieve a gamescore that is similar to a score of 12.\n",
    "\n",
    "Try this retrieval a few times. You'll see that you won't always get the same chunk, and sometimes you'll get no chunk at all. This is because of fluctuations in activation noise."
   ]
  },
  {
   "cell_type": "code",
   "execution_count": 20,
   "metadata": {},
   "outputs": [],
   "source": [
    "partial_pattern = Chunk(name = \"partial-test\", slots = {\"type\" : \"gamescore\", \"score\" : 12})"
   ]
  },
  {
   "cell_type": "code",
   "execution_count": 21,
   "metadata": {},
   "outputs": [
    {
     "name": "stdout",
     "output_type": "stream",
     "text": [
      "None 0.27182818284590454\n"
     ]
    }
   ],
   "source": [
    "chunk, latency = m.retrieve_partial(partial_pattern)\n",
    "print(chunk, latency)"
   ]
  },
  {
   "cell_type": "markdown",
   "metadata": {},
   "source": [
    "Adding `trace = True` will show the activation of all eligible chunks in memory, along with the mismatch penalty applied to each."
   ]
  },
  {
   "cell_type": "code",
   "execution_count": 22,
   "metadata": {},
   "outputs": [
    {
     "name": "stdout",
     "output_type": "stream",
     "text": [
      "Chunk score1 has activation -0.377104 and penalty -0.848528\n",
      "Chunk score2 has activation -0.458239 and penalty -1.039230\n",
      "Chunk score3 has activation 0.483068 and penalty -1.697056\n",
      "None 0.27182818284590454\n"
     ]
    }
   ],
   "source": [
    "chunk, latency = m.retrieve_partial(partial_pattern,trace = True)\n",
    "print(chunk, latency)"
   ]
  },
  {
   "cell_type": "code",
   "execution_count": 26,
   "metadata": {},
   "outputs": [
    {
     "data": {
      "text/plain": [
       "-0.4862527564921678"
      ]
     },
     "execution_count": 26,
     "metadata": {},
     "output_type": "execute_result"
    }
   ],
   "source": [
    "m.get_activation(d2)"
   ]
  },
  {
   "cell_type": "code",
   "execution_count": 56,
   "metadata": {},
   "outputs": [],
   "source": []
  },
  {
   "cell_type": "code",
   "execution_count": 67,
   "metadata": {},
   "outputs": [
    {
     "data": {
      "text/plain": [
       "0.051695260168789114"
      ]
     },
     "execution_count": 67,
     "metadata": {},
     "output_type": "execute_result"
    }
   ],
   "source": [
    "select = [chunk.name.startswith('score') for chunk in m.dm]\n",
    "chunks = np.array(m.dm)[select]\n",
    "partial_pattern = Chunk(name = \"prob-test\", slots = {\"type\" : \"gamescore\"})\n",
    "{chunk.name: m.get_retrieval_probability(chunk, partial_pattern ) for chunk in chunks}"
   ]
  },
  {
   "cell_type": "code",
   "execution_count": 40,
   "metadata": {},
   "outputs": [
    {
     "ename": "TypeError",
     "evalue": "get_retrieval_probability() missing 1 required positional argument: 'pattern'",
     "output_type": "error",
     "traceback": [
      "\u001b[1;31m---------------------------------------------------------------------------\u001b[0m",
      "\u001b[1;31mTypeError\u001b[0m                                 Traceback (most recent call last)",
      "\u001b[1;32m<ipython-input-40-3c6aa27fe874>\u001b[0m in \u001b[0;36m<module>\u001b[1;34m\u001b[0m\n\u001b[1;32m----> 1\u001b[1;33m \u001b[0mm\u001b[0m\u001b[1;33m.\u001b[0m\u001b[0mget_retrieval_probability\u001b[0m\u001b[1;33m(\u001b[0m\u001b[0mChunk\u001b[0m\u001b[1;33m(\u001b[0m\u001b[0mname\u001b[0m \u001b[1;33m=\u001b[0m \u001b[1;34m'gamescore'\u001b[0m\u001b[1;33m,\u001b[0m \u001b[0mslots\u001b[0m \u001b[1;33m=\u001b[0m \u001b[1;33m{\u001b[0m\u001b[1;33m}\u001b[0m\u001b[1;33m)\u001b[0m \u001b[1;33m)\u001b[0m\u001b[1;33m\u001b[0m\u001b[1;33m\u001b[0m\u001b[0m\n\u001b[0m",
      "\u001b[1;31mTypeError\u001b[0m: get_retrieval_probability() missing 1 required positional argument: 'pattern'"
     ]
    }
   ],
   "source": [
    "m.get_retrieval_probability(Chunk(name = 'gamescore', slots = {}) )"
   ]
  },
  {
   "cell_type": "code",
   "execution_count": 30,
   "metadata": {},
   "outputs": [
    {
     "name": "stdout",
     "output_type": "stream",
     "text": [
      "\n",
      "=== Model ===\n",
      "Time: 63.001 s \n",
      "Goal:Chunk goal-chunk\n",
      "Slots: {'goal': 'count', 'current': 'two'}\n",
      "Encounters: []\n",
      "Fan: 0\n",
      "\n",
      "DM:Chunk c1\n",
      "Slots: {'type': 'numbers', 'val1': 1, 'val2': 2, 'word': 'two'}\n",
      "Encounters: [0, 35]\n",
      "Fan: 0\n",
      "\n",
      "Chunk numbers\n",
      "Slots: {}\n",
      "Encounters: [0]\n",
      "Fan: 2\n",
      "\n",
      "Chunk two\n",
      "Slots: {}\n",
      "Encounters: [0]\n",
      "Fan: 1\n",
      "\n",
      "Chunk c2\n",
      "Slots: {'type': 'numbers', 'val1': 2, 'val2': 3, 'word': 'three'}\n",
      "Encounters: [0, 15, 40]\n",
      "Fan: 0\n",
      "\n",
      "Chunk three\n",
      "Slots: {}\n",
      "Encounters: [0]\n",
      "Fan: 1\n",
      "\n",
      "Chunk score1\n",
      "Slots: {'type': 'gamescore', 'score': 10}\n",
      "Encounters: [60.001]\n",
      "Fan: 0\n",
      "\n",
      "Chunk gamescore\n",
      "Slots: {}\n",
      "Encounters: [60.001]\n",
      "Fan: 3\n",
      "\n",
      "Chunk score2\n",
      "Slots: {'type': 'gamescore', 'score': 15}\n",
      "Encounters: [61.001]\n",
      "Fan: 0\n",
      "\n",
      "Chunk score3\n",
      "Slots: {'type': 'gamescore', 'score': 20}\n",
      "Encounters: [62.001]\n",
      "Fan: 0\n",
      "\n",
      "\n"
     ]
    }
   ],
   "source": [
    "print(m)"
   ]
  }
 ],
 "metadata": {
  "kernelspec": {
   "display_name": "Python 3",
   "language": "python",
   "name": "python3"
  },
  "language_info": {
   "codemirror_mode": {
    "name": "ipython",
    "version": 3
   },
   "file_extension": ".py",
   "mimetype": "text/x-python",
   "name": "python",
   "nbconvert_exporter": "python",
   "pygments_lexer": "ipython3",
   "version": "3.7.8"
  }
 },
 "nbformat": 4,
 "nbformat_minor": 2
}

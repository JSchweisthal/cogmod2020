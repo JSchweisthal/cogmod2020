{
 "cells": [
  {
   "cell_type": "markdown",
   "metadata": {},
   "source": [
    "# Homework \\#6\n",
    "Name: Jonas Schweisthal \\\n",
    "Student number: s4535561"
   ]
  },
  {
   "cell_type": "code",
   "execution_count": 1,
   "metadata": {},
   "outputs": [],
   "source": [
    "# New code since last assignment is framed in:\n",
    "# NEW Start ----------------------------------------------------------\n",
    "\n",
    "# NEW End ------------------------------------------------------------"
   ]
  },
  {
   "cell_type": "code",
   "execution_count": 2,
   "metadata": {},
   "outputs": [],
   "source": [
    "from model import Model\n",
    "from dmchunk import Chunk\n",
    "import matplotlib.pyplot as plt\n",
    "import pandas as pd\n",
    "import numpy as np\n",
    "import random\n",
    "import math"
   ]
  },
  {
   "cell_type": "code",
   "execution_count": 3,
   "metadata": {},
   "outputs": [],
   "source": [
    "def noise(s):\n",
    "    rand = random.uniform(0.001,0.999)\n",
    "    return s * math.log((1 - rand)/rand)"
   ]
  },
  {
   "cell_type": "code",
   "execution_count": 4,
   "metadata": {},
   "outputs": [],
   "source": [
    "def time_to_pulses(time, t_0 = 0.011, a = 1.1, b = 0.015):\n",
    "    pulses = 0\n",
    "    pulse_duration = t_0\n",
    "    while time >= pulse_duration:\n",
    "        time = time - pulse_duration\n",
    "        pulses += 1\n",
    "        pulse_duration = a * pulse_duration + noise(b * a * pulse_duration)\n",
    "    return pulses"
   ]
  },
  {
   "cell_type": "code",
   "execution_count": 5,
   "metadata": {},
   "outputs": [],
   "source": [
    "def pulses_to_time(pulses, t_0 = 0.011, a = 1.1, b = 0.015):\n",
    "    time = 0\n",
    "    pulse_duration = t_0\n",
    "    while pulses > 0:\n",
    "        time = time + pulse_duration\n",
    "        pulses = pulses - 1\n",
    "        pulse_duration = a * pulse_duration + noise(b * a * pulse_duration)\n",
    "    return time"
   ]
  },
  {
   "cell_type": "code",
   "execution_count": 6,
   "metadata": {},
   "outputs": [],
   "source": [
    "# Perform Experiments: \n",
    "def ready_set_go(n_participants, experiment):\n",
    "    '''\n",
    "         Simulates experiments 1 or 2 of Acerbi et al. (2012)\n",
    "\n",
    "                Parameters:\n",
    "                        a (int): number of participants conducting the experiment\n",
    "                        b (int[1 or 2]): number defining the selected experiemnt\n",
    "\n",
    "                Returns:\n",
    "                        df (pandas.DataFrame): DataFrame containing the results of the experiment\n",
    "    '''\n",
    "    # number of subjects\n",
    "    subjects = range(1,n_participants+1)\n",
    "    if experiment == 1:\n",
    "        # short, long\n",
    "        conditions = [\"Short Uniform\", \"Long Uniform\"] \n",
    "    elif experiment == 2:\n",
    "         # medium uniform, medium peaked\n",
    "        conditions = [\"Medium Uniform\", \"Medium Peaked\"]\n",
    "    # defining dataframe\n",
    "# NEW Start ---------------------------------------------------------------------------------------\n",
    "    # adding Priori to df\n",
    "    df = pd.DataFrame(columns = [\"Line\", \"Subj\", \"Cond\", \"Session\", \"Run\", \"Trial\", \"Ts\", \"Tp\", \"Main\", \"PriorProbs\"])\n",
    "# NEW End ---------------------------------------------------------------------------------------\n",
    "    main = False\n",
    "    line = 0\n",
    "    for subj in subjects:\n",
    "        # shuffling order of conditions randomly per subject\n",
    "        np.random.shuffle(conditions)\n",
    "        # own condition and model per subject as there is probably a long time between the two conditions\n",
    "        for cond in conditions:\n",
    "            m = Model()\n",
    "            session = 1\n",
    "            # set up for stopping if fractional change in mean squared timing error between sessions less than 0.08\n",
    "            change_error = 1\n",
    "            while change_error >= 0.08: \n",
    "                \n",
    "                # between 5 and 6 runs per session a ~500 trials\n",
    "                for run in np.arange(1, np.random.choice([5, 6])+1):\n",
    "                    # between 84 and 96 trials per run\n",
    "                    for trial in np.arange(1, np.random.randint(84, 97)):\n",
    "                        \n",
    "                        line += 1\n",
    "                        # educated guess of about 2 seconds preparation time between trials\n",
    "                        m.time += 2 \n",
    "# NEW Start ---------------------------------------------------------------------------------------\n",
    "                      \n",
    "                        # calculating priors for the stored integer pulses before each trial\n",
    "                        select = [chunk.name.startswith('pf') for chunk in m.dm]\n",
    "                        chunks = np.array(m.dm)[select]\n",
    "                        partial_pattern = Chunk(name = \"prob-test\", slots = {\"isa\" : \"pulses-fact\"})\n",
    "                        priors = {chunk.name: m.get_retrieval_probability(chunk, partial_pattern ) for chunk in chunks}\n",
    "\n",
    "# NEW End -----------------------------------------------------------------------------------------                              \n",
    "                        \n",
    "                        # draw out of 6 discrete values of discrete uniform distribution per condition\n",
    "                        if cond == \"Short Uniform\":\n",
    "                            ts = np.random.choice(np.linspace(0.45, 0.825, 6)).round(3) # rounding just for computational rounding errors necessary\n",
    "                        elif cond == \"Long Uniform\":\n",
    "                            ts = np.random.choice(np.linspace(0.75, 1.125, 6)).round(3)\n",
    "                        elif cond == \"Medium Uniform\":\n",
    "                            ts = np.random.choice(np.linspace(0.600, 0.975, 6)).round(3)\n",
    "                        elif cond == \"Medium Peaked\":\n",
    "                            ts = np.random.choice(np.linspace(0.600, 0.975, 6), \n",
    "                                                 p = [1/12, 7/12, 1/12, 1/12, 1/12, 1/12]).round(3)\n",
    "                        m.time += ts\n",
    "\n",
    "                        # time to pulses \n",
    "                        pulses = time_to_pulses(ts)\n",
    "                        fact = Chunk(name = \"pf\" + str(pulses), slots ={\"isa\":\"pulses-fact\", \"pulses\": pulses})\n",
    "                        # adding encounter of the perceived interval as pulses at the end time point of the presented interval\n",
    "                        m.add_encounter(fact)\n",
    "                        # flash time of 0.0185 seconds \n",
    "                        m.time += 0.0185\n",
    "                        # adding time of 250 ms for minimum waiting after flash \n",
    "                        # 5ms time for storing encounter included here (simultaneously)\n",
    "                        m.time += 0.250\n",
    "                        \n",
    "                        # retrieving blended trace\n",
    "                        request = Chunk(name = \"retrieve\", slots = {\"isa\": \"pulses-fact\"})\n",
    "                        pulses_retrieved, latency = m.retrieve_blended_trace(request, \"pulses\")\n",
    "                        # m.time += latency is NOT added as discussed in supervision session\n",
    "                        # converting blended trace of retrieved pulses to seconds\n",
    "                        tp = pulses_to_time(pulses_retrieved)\n",
    "                        # adding prodcution error for motoric mouseclicking of retrieved intervall possible\n",
    "                        # here no error is added because\n",
    "                        # adding production time\n",
    "                        m.time += tp\n",
    "                        \n",
    "                        # random delay continuos random uniform distribution till feedback\n",
    "                        delay = np.random.uniform(0.45, 0.85)\n",
    "                        m.time += delay\n",
    "                        # adding time of feedback\n",
    "                        m.time += 0.062\n",
    "                        # adding time fixation cross disappearing\n",
    "                        m.time += np.random.uniform(0.5, 0.75)\n",
    "                        # adding time for blank screen \n",
    "                        m.time += np.random.uniform(0.5, 0.75)\n",
    "                        # new fixation cross signalling start of new trial\n",
    "# NEW Start ---------------------------------------------------------------------------------------   \n",
    "                        # adding prior to df\n",
    "                        # store times in milliseconds in dataframe\n",
    "                        df.loc[line-1] = [line, subj, cond, session, run, trial, ts*1000, tp*1000, main, priors]\n",
    "# NEW End ---------------------------------------------------------------------------------------\n",
    "                    # Subjects could take short breaks between runs, educated guess with 1 minute assumed to be realistic\n",
    "                    m.time += 60                        \n",
    "                        \n",
    "                #checking if fractional change in mean squared timing error between sessions less than 0.08\n",
    "                if change_error >= 0.08 and session >1:\n",
    "                    change_error = abs(1-(((df[df.Session == session][\"Tp\"]-df[df.Session == session][\"Ts\"])**2).mean()/\n",
    "                                    ((df[df.Session == session-1][\"Tp\"]-df[df.Session == session-1][\"Ts\"])**2).mean()))\n",
    "                session += 1\n",
    "            # set last two sessions per subject and block as Test (main = True)  \n",
    "            df.loc[(df.Subj == subj) & (df.Cond == cond), 'Main'] = np.where(df.loc[(df.Subj == subj) & (df.Cond == cond), 'Session'] >\n",
    "                                                                             df.loc[(df.Subj == subj) & (df.Cond == cond), 'Session'].max()-2,\n",
    "                                                                            True, False)\n",
    "\n",
    "\n",
    "    return df"
   ]
  },
  {
   "cell_type": "code",
   "execution_count": 7,
   "metadata": {},
   "outputs": [],
   "source": [
    "# Simulating experiments 1 and 2 with 4 and 6 participants as mentioned in the paper\n",
    "df_1 = ready_set_go(n_participants=4, experiment=1)\n",
    "df_2 = ready_set_go(n_participants=6, experiment=2)\n",
    "\n",
    "# changing Subject numbers for second experiment\n",
    "df_2['Subj'] = df_2['Subj']+ df_1['Subj'].max() \n",
    "\n",
    "# combining datasets and calculating Bias\n",
    "df = df_1.append(df_2, ignore_index = True)\n",
    "df[\"Bias\"] = df[\"Tp\"] - df[\"Ts\"]"
   ]
  },
  {
   "cell_type": "code",
   "execution_count": 8,
   "metadata": {},
   "outputs": [],
   "source": [
    "# NEW Start ------------------------------------------------------------  \n",
    "\n",
    "# Selecting just the Test sessions (Main==True) for the priors\n",
    "# priors of all individual per condition\n",
    "dfs_priors = {}\n",
    "for cond in df.Cond.unique():\n",
    "    df_cond = df[(df.Cond == cond) & (df.Main == True)]\n",
    "    df_cond_prior = pd.DataFrame(df_cond['PriorProbs'].tolist()).reset_index()\n",
    "    dfs_priors[cond] = pd.wide_to_long(df_cond_prior, stubnames='pf', i = 'index' , j = 'prior').reset_index().drop('index', axis = 1)\n",
    "    dfs_priors[cond]['cond'] = cond\n",
    "    \n",
    "# priors of one individual per condition   \n",
    "dfs_priors_individual = {}\n",
    "for cond in df.Cond.unique():\n",
    "    random_subj = np.random.choice(df[(df.Cond == cond)].Subj.unique())\n",
    "    df_cond = df[(df.Cond == cond) & (df.Main == True) & (df.Subj == random_subj)]\n",
    "    df_cond_prior = pd.DataFrame(df_cond['PriorProbs'].tolist()).reset_index()\n",
    "    dfs_priors_individual[cond] = pd.wide_to_long(df_cond_prior, stubnames='pf', i = 'index' , j = 'prior').reset_index().drop('index', axis = 1)\n",
    "    dfs_priors_individual[cond]['cond'] = cond\n",
    "    \n",
    "# concatenating the DataFrames\n",
    "df_priors = pd.concat(dfs_priors.values())\n",
    "df_priors_individual =  pd.concat(dfs_priors_individual.values())\n",
    "\n",
    "# NEW End ------------------------------------------------------------  "
   ]
  },
  {
   "cell_type": "code",
   "execution_count": 9,
   "metadata": {},
   "outputs": [],
   "source": [
    "# NEW Start ------------------------------------------------------------  \n",
    "\n",
    "# Function pulses to time without any noise\n",
    "def pulses_to_time_nonoise(pulses, t_0 = 0.011, a = 1.1, b = 0.015):\n",
    "    time = 0\n",
    "    pulse_duration = t_0\n",
    "    while pulses > 0:\n",
    "        time = time + pulse_duration\n",
    "        pulses = pulses - 1\n",
    "        pulse_duration = a * pulse_duration\n",
    "    return time\n",
    "\n",
    "# NEW End --------------------------------------------------------------"
   ]
  },
  {
   "cell_type": "code",
   "execution_count": 10,
   "metadata": {},
   "outputs": [],
   "source": [
    "# NEW Start ------------------------------------------------------------ \n",
    "\n",
    "# adding converting pulses to time without any noise as a column\n",
    "# actually, \"true\" assumed prior exists for the stored integer pulses\n",
    "# but for better comparison with acerbi plots integer pulses transformed to ms without noise is used\n",
    "# as noise wouldn't make any sense since there's not happening any real converting\n",
    "df_priors['ms'] = df_priors.prior.apply(lambda x: pulses_to_time_nonoise(x)*1000)\n",
    "df_priors_individual['ms'] = df_priors_individual.prior.apply(lambda x: pulses_to_time_nonoise(x)*1000)\n",
    "\n",
    "# NEW End --------------------------------------------------------------"
   ]
  },
  {
   "cell_type": "code",
   "execution_count": 12,
   "metadata": {},
   "outputs": [
    {
     "data": {
      "image/png": "[encoded data removed]"
     },
     "metadata": {},
     "output_type": "display_data"
    },
    {
     "data": {
      "application/vnd.plotly.v1+json": {
       "config": {
        "plotlyServerURL": "https://plot.ly"
       },
       "data": [
        {
         "line": {
          "color": "red",
          "shape": "spline"
         },
         "name": "individual: Short Uniform",
         "type": "scatter",
         "x": [
          349.49729863571827,
          395.4470284992914,
          445.9917313492194,
          501.5909044841505,
          562.7499949325577,
          630.0249944258222,
          704.0274938683843,
          785.4302432552296,
          874.9732675807609,
          973.4705943388398
         ],
         "xaxis": "x",
         "y": [
          9.260470364423912e-08,
          0.009184921617292762,
          0.0574969548270634,
          0.22719172960228728,
          0.16948197022490383,
          0.22813233689818163,
          0.2184735191762008,
          0.08987567252101702,
          0.00016214134370080055,
          6.611846486872508e-07
         ],
         "yaxis": "y"
        },
        {
         "line": {
          "color": "red",
          "dash": "dash",
          "shape": "spline",
          "width": 2
         },
         "showlegend": false,
         "type": "scatter",
         "x": [
          349.49729863571827,
          395.4470284992914,
          445.9917313492194,
          501.5909044841505,
          562.7499949325577,
          630.0249944258222,
          704.0274938683843,
          785.4302432552296,
          874.9732675807609,
          973.4705943388398
         ],
         "xaxis": "x",
         "y": [
          8.073280970880645e-07,
          0.014152818045067662,
          0.08652839168457738,
          0.3028117319246016,
          0.22808463887366504,
          0.31194968990812366,
          0.2889230098055493,
          0.12560066724669125,
          0.00037417596034439453,
          3.473273215636481e-06
         ],
         "yaxis": "y"
        },
        {
         "line": {
          "color": "red",
          "dash": "dash",
          "shape": "spline",
          "width": 2
         },
         "showlegend": false,
         "type": "scatter",
         "x": [
          349.49729863571827,
          395.4470284992914,
          445.9917313492194,
          501.5909044841505,
          562.7499949325577,
          630.0249944258222,
          704.0274938683843,
          785.4302432552296,
          874.9732675807609,
          973.4705943388398
         ],
         "xaxis": "x",
         "y": [
          -6.221186897995862e-07,
          0.0042170251895178625,
          0.028465517969549426,
          0.15157172727997298,
          0.11087930157614262,
          0.1443149838882396,
          0.14802402854685232,
          0.0541506777953428,
          -4.989327294279341e-05,
          -2.1509039182619797e-06
         ],
         "yaxis": "y"
        },
        {
         "line": {
          "color": "lightgreen",
          "shape": "spline"
         },
         "name": "individual: Long Uniform",
         "type": "scatter",
         "x": [
          562.7499949325577,
          630.0249944258225,
          704.0274938683837,
          785.4302432552291,
          874.9732675807593,
          973.4705943388398,
          1081.8176537727422,
          1200.999419149969,
          1332.0993610649987,
          1476.3092971714877
         ],
         "xaxis": "x",
         "y": [
          1.111465573932752e-09,
          0.0001341273251618258,
          0.05173914789009417,
          0.2018630600736133,
          0.4157406107282949,
          0.25044415070255743,
          0.07976704532132316,
          0.00031132690761525325,
          5.291774886996163e-07,
          7.623859081143156e-10
         ],
         "yaxis": "y"
        },
        {
         "line": {
          "color": "lightgreen",
          "dash": "dash",
          "shape": "spline",
          "width": 2
         },
         "showlegend": false,
         "type": "scatter",
         "x": [
          562.7499949325577,
          630.0249944258225,
          704.0274938683837,
          785.4302432552291,
          874.9732675807593,
          973.4705943388398,
          1081.8176537727422,
          1200.999419149969,
          1332.0993610649987,
          1476.3092971714877
         ],
         "xaxis": "x",
         "y": [
          2.830126272246207e-08,
          0.00030704813510857887,
          0.07711262355962886,
          0.26663630952599604,
          0.5048560070332918,
          0.3438114102984835,
          0.11529214261569896,
          0.0005817567711810796,
          3.4572970343107992e-06,
          1.909144230308673e-08
         ],
         "yaxis": "y"
        },
        {
         "line": {
          "color": "lightgreen",
          "dash": "dash",
          "shape": "spline",
          "width": 2
         },
         "showlegend": false,
         "type": "scatter",
         "x": [
          562.7499949325577,
          630.0249944258225,
          704.0274938683837,
          785.4302432552291,
          874.9732675807593,
          973.4705943388398,
          1081.8176537727422,
          1200.999419149969,
          1332.0993610649987,
          1476.3092971714877
         ],
         "xaxis": "x",
         "y": [
          -2.6078331574596566e-08,
          -3.879348478492728e-05,
          0.026365672220559473,
          0.13708981062123052,
          0.32662521442329795,
          0.1570768911066314,
          0.04424194802694735,
          4.089704404942684e-05,
          -2.398942056911567e-06,
          -1.7566670486858095e-08
         ],
         "yaxis": "y"
        },
        {
         "line": {
          "color": "darkgreen",
          "shape": "spline"
         },
         "name": "individual: Medium Uniform",
         "type": "scatter",
         "x": [
          445.9917313492181,
          501.59090448415077,
          562.7499949325577,
          630.0249944258225,
          704.0274938683833,
          785.4302432552289,
          874.9732675807585,
          973.4705943388398,
          1081.8176537727418,
          1200.9994191499684,
          1332.099361065001
         ],
         "xaxis": "x3",
         "y": [
          9.566711062138657e-08,
          2.926131508912069e-05,
          0.0730710304202197,
          0.10350021443772847,
          0.21539102697835957,
          0.3065394788050007,
          0.2925392532025746,
          0.008909505513206392,
          2.0115746823999587e-05,
          1.7912485984880863e-08,
          1.4014082412882442e-12
         ],
         "yaxis": "y3"
        },
        {
         "line": {
          "color": "darkgreen",
          "dash": "dash",
          "shape": "spline",
          "width": 2
         },
         "showlegend": false,
         "type": "scatter",
         "x": [
          445.9917313492181,
          501.59090448415077,
          562.7499949325577,
          630.0249944258225,
          704.0274938683833,
          785.4302432552289,
          874.9732675807585,
          973.4705943388398,
          1081.8176537727418,
          1200.9994191499684,
          1332.099361065001
         ],
         "xaxis": "x3",
         "y": [
          1.5248377848404162e-06,
          8.39621796301942e-05,
          0.1113842295539749,
          0.15192717162655928,
          0.309086030743764,
          0.40421121687680905,
          0.41547377959511733,
          0.016196315512177806,
          6.635975607019085e-05,
          3.111387079548398e-07,
          4.963411395748184e-12
         ],
         "yaxis": "y3"
        },
        {
         "line": {
          "color": "darkgreen",
          "dash": "dash",
          "shape": "spline",
          "width": 2
         },
         "showlegend": false,
         "type": "scatter",
         "x": [
          445.9917313492181,
          501.59090448415077,
          562.7499949325577,
          630.0249944258225,
          704.0274938683833,
          785.4302432552289,
          874.9732675807585,
          973.4705943388398,
          1081.8176537727418,
          1200.9994191499684,
          1332.099361065001
         ],
         "xaxis": "x3",
         "y": [
          -1.3335035635976429e-06,
          -2.5439549451952823e-05,
          0.03475783128646451,
          0.05507325724889766,
          0.12169602321295513,
          0.20886774073319236,
          0.1696047268100319,
          0.001622695514234977,
          -2.6128262422191675e-05,
          -2.7531373598507803e-07,
          -2.160594913171695e-12
         ],
         "yaxis": "y3"
        },
        {
         "line": {
          "color": "skyblue",
          "shape": "spline"
         },
         "name": "individual: Medium Peaked",
         "type": "scatter",
         "x": [
          445.991731349218,
          501.59090448415077,
          562.7499949325577,
          630.0249944258225,
          704.0274938683832,
          785.4302432552288,
          874.9732675807583,
          973.4705943388398,
          1081.817653772741,
          1200.9994191499682
         ],
         "xaxis": "x3",
         "y": [
          7.891723694481287e-15,
          9.79254618279873e-07,
          0.018388779757133995,
          0.8393641542221186,
          0.13539819668777206,
          0.005703238584921379,
          0.0010964929969889104,
          4.811206720118118e-05,
          4.6314313823926786e-08,
          1.1492344549061857e-10
         ],
         "yaxis": "y3"
        },
        {
         "line": {
          "color": "skyblue",
          "dash": "dash",
          "shape": "spline",
          "width": 2
         },
         "showlegend": false,
         "type": "scatter",
         "x": [
          445.991731349218,
          501.59090448415077,
          562.7499949325577,
          630.0249944258225,
          704.0274938683832,
          785.4302432552288,
          874.9732675807583,
          973.4705943388398,
          1081.817653772741,
          1200.9994191499682
         ],
         "xaxis": "x3",
         "y": [
          1.561159565522225e-14,
          1.837227403638083e-06,
          0.023202389097618504,
          0.8788545573354696,
          0.17341791966739442,
          0.008154613084177451,
          0.0014736408663442624,
          7.443273960728967e-05,
          1.3409545846598986e-07,
          1.972294270464976e-09
         ],
         "yaxis": "y3"
        },
        {
         "line": {
          "color": "skyblue",
          "dash": "dash",
          "shape": "spline",
          "width": 2
         },
         "showlegend": false,
         "type": "scatter",
         "x": [
          445.991731349218,
          501.59090448415077,
          562.7499949325577,
          630.0249944258225,
          704.0274938683832,
          785.4302432552288,
          874.9732675807583,
          973.4705943388398,
          1081.817653772741,
          1200.9994191499682
         ],
         "xaxis": "x3",
         "y": [
          1.7185173374032433e-16,
          1.2128183292166318e-07,
          0.013575170416649487,
          0.7998737511087677,
          0.0973784737081497,
          0.0032518640856653075,
          0.0007193451276335584,
          2.1791394795072687e-05,
          -4.146683081813629e-08,
          -1.7424473794837388e-09
         ],
         "yaxis": "y3"
        },
        {
         "line": {
          "color": "red",
          "shape": "spline"
         },
         "name": "group: Short Uniform",
         "type": "scatter",
         "x": [
          349.4972986357518,
          395.44702849931343,
          445.99173134920545,
          501.59090448410257,
          562.7499949326151,
          630.024994425783,
          704.0274938684446,
          785.4302432552333,
          874.9732675808174,
          973.4705943387431,
          1081.8176537727877
         ],
         "xaxis": "x2",
         "y": [
          1.0738364319316587e-07,
          0.0051346922244172085,
          0.06006256637126551,
          0.13539091866291122,
          0.15916287709005403,
          0.26097561833827077,
          0.2715155781932951,
          0.10708066882447702,
          0.000676608964194637,
          3.613141643870246e-07,
          6.580589174471117e-09
         ],
         "yaxis": "y2"
        },
        {
         "line": {
          "color": "red",
          "dash": "dash",
          "shape": "spline",
          "width": 2
         },
         "showlegend": false,
         "type": "scatter",
         "x": [
          349.4972986357518,
          395.44702849931343,
          445.99173134920545,
          501.59090448410257,
          562.7499949326151,
          630.024994425783,
          704.0274938684446,
          785.4302432552333,
          874.9732675808174,
          973.4705943387431,
          1081.8176537727877
         ],
         "xaxis": "x2",
         "y": [
          7.37297370870651e-07,
          0.00951250018713903,
          0.09488429686708212,
          0.21152480860744427,
          0.22683758081264693,
          0.35561447645754796,
          0.3638848387696409,
          0.15892719233469116,
          0.001433708820946004,
          2.6301537258759777e-06,
          1.347535573484641e-07
         ],
         "yaxis": "y2"
        },
        {
         "line": {
          "color": "red",
          "dash": "dash",
          "shape": "spline",
          "width": 2
         },
         "showlegend": false,
         "type": "scatter",
         "x": [
          349.4972986357518,
          395.44702849931343,
          445.99173134920545,
          501.59090448410257,
          562.7499949326151,
          630.024994425783,
          704.0274938684446,
          785.4302432552333,
          874.9732675808174,
          973.4705943387431,
          1081.8176537727877
         ],
         "xaxis": "x2",
         "y": [
          -5.225300844843193e-07,
          0.000756884261695386,
          0.025240835875448897,
          0.059257028718378194,
          0.09148817336746114,
          0.16633676021899357,
          0.17914631761694927,
          0.055234145314262864,
          -8.049089255672992e-05,
          -1.9075253971019286e-06,
          -1.2159237899952187e-07
         ],
         "yaxis": "y2"
        },
        {
         "line": {
          "color": "lightgreen",
          "shape": "spline"
         },
         "name": "group: Long Uniform",
         "type": "scatter",
         "x": [
          562.7499949326213,
          630.0249944258002,
          704.0274938684494,
          785.4302432552194,
          874.9732675808207,
          973.4705943387283,
          1081.8176537727695,
          1200.9994191499488,
          1332.0993610649145,
          1476.3092971714366
         ],
         "xaxis": "x2",
         "y": [
          3.4625298496817054e-09,
          0.00011771192014396104,
          0.02840805090877624,
          0.20247345062725,
          0.37053536723135955,
          0.34361154828884405,
          0.054600735215808084,
          0.000252363990915767,
          7.666131401529077e-07,
          1.741232599747829e-09
         ],
         "yaxis": "y2"
        },
        {
         "line": {
          "color": "lightgreen",
          "dash": "dash",
          "shape": "spline",
          "width": 2
         },
         "showlegend": false,
         "type": "scatter",
         "x": [
          562.7499949326213,
          630.0249944258002,
          704.0274938684494,
          785.4302432552194,
          874.9732675808207,
          973.4705943387283,
          1081.8176537727695,
          1200.9994191499488,
          1332.0993610649145,
          1476.3092971714366
         ],
         "xaxis": "x2",
         "y": [
          6.856555482729929e-08,
          0.0002658769153374654,
          0.048762216474843356,
          0.2720484206953223,
          0.4768165503539738,
          0.45678926835499667,
          0.08319801634277894,
          0.0004947742338902454,
          3.327177155829027e-06,
          4.603949044305524e-08
         ],
         "yaxis": "y2"
        },
        {
         "line": {
          "color": "lightgreen",
          "dash": "dash",
          "shape": "spline",
          "width": 2
         },
         "showlegend": false,
         "type": "scatter",
         "x": [
          562.7499949326213,
          630.0249944258002,
          704.0274938684494,
          785.4302432552194,
          874.9732675808207,
          973.4705943387283,
          1081.8176537727695,
          1200.9994191499488,
          1332.0993610649145,
          1476.3092971714366
         ],
         "xaxis": "x2",
         "y": [
          -6.164049512793588e-08,
          -3.0453075049543336e-05,
          0.008053885342709125,
          0.13289848055917766,
          0.2642541841087453,
          0.23043382822269143,
          0.02600345408883722,
          9.953747941288539e-06,
          -1.793950875523212e-06,
          -4.255702524355958e-08
         ],
         "yaxis": "y2"
        },
        {
         "line": {
          "color": "darkgreen",
          "shape": "spline"
         },
         "name": "group: Medium Uniform",
         "type": "scatter",
         "x": [
          445.9917313492249,
          501.5909044840796,
          562.7499949326358,
          630.0249944258387,
          704.0274938684602,
          785.4302432552166,
          874.9732675807549,
          973.4705943388082,
          1081.8176537726745,
          1200.999419149947,
          1332.0993610648952
         ],
         "xaxis": "x4",
         "y": [
          2.7826754594094476e-08,
          4.929841108238569e-05,
          0.03905865030927582,
          0.12164378074308323,
          0.23821713750291473,
          0.3816389114947976,
          0.20399635049131534,
          0.015356137256359717,
          3.966422179329992e-05,
          4.4462061508365016e-08,
          8.408256404052036e-09
         ],
         "yaxis": "y4"
        },
        {
         "line": {
          "color": "darkgreen",
          "dash": "dash",
          "shape": "spline",
          "width": 2
         },
         "showlegend": false,
         "type": "scatter",
         "x": [
          445.9917313492249,
          501.5909044840796,
          562.7499949326358,
          630.0249944258387,
          704.0274938684602,
          785.4302432552166,
          874.9732675807549,
          973.4705943388082,
          1081.8176537726745,
          1200.999419149947,
          1332.0993610648952
         ],
         "xaxis": "x4",
         "y": [
          7.291109133565169e-07,
          0.00016079611018523788,
          0.07319334210641379,
          0.18456881559093113,
          0.3410984313884752,
          0.5109947041501963,
          0.3169001310952889,
          0.029016945015934326,
          0.00012873069772443744,
          1.0213048774584035e-06,
          3.2086100050066175e-07
         ],
         "yaxis": "y4"
        },
        {
         "line": {
          "color": "darkgreen",
          "dash": "dash",
          "shape": "spline",
          "width": 2
         },
         "showlegend": false,
         "type": "scatter",
         "x": [
          445.9917313492249,
          501.5909044840796,
          562.7499949326358,
          630.0249944258387,
          704.0274938684602,
          785.4302432552166,
          874.9732675807549,
          973.4705943388082,
          1081.8176537726745,
          1200.999419149947,
          1332.0993610648952
         ],
         "xaxis": "x4",
         "y": [
          -6.734574041683281e-07,
          -6.219928802046652e-05,
          0.004923958512137852,
          0.05871874589523532,
          0.13533584361735432,
          0.25228311883939886,
          0.0910925698873418,
          0.0016953294967851102,
          -4.940225413783759e-05,
          -9.323807544416734e-07,
          -3.0404448769255763e-07
         ],
         "yaxis": "y4"
        },
        {
         "line": {
          "color": "skyblue",
          "shape": "spline"
         },
         "name": "group: Medium Peaked",
         "type": "scatter",
         "x": [
          445.99173134922233,
          501.59090448408034,
          562.7499949326351,
          630.024994425837,
          704.0274938684597,
          785.4302432552108,
          874.973267580761,
          973.4705943388038,
          1081.8176537726786,
          1200.9994191499472,
          1332.0993610648961
         ],
         "xaxis": "x4",
         "y": [
          1.5906314035891968e-09,
          6.750314563827334e-06,
          0.018355579307830428,
          0.8430630532684528,
          0.12795591223305428,
          0.00789500818005925,
          0.002610752189866177,
          0.00011248659233938453,
          4.529819196879395e-07,
          4.385113154613507e-09,
          1.6142112721306394e-09
         ],
         "yaxis": "y4"
        },
        {
         "line": {
          "color": "skyblue",
          "dash": "dash",
          "shape": "spline",
          "width": 2
         },
         "showlegend": false,
         "type": "scatter",
         "x": [
          445.99173134922233,
          501.59090448408034,
          562.7499949326351,
          630.024994425837,
          704.0274938684597,
          785.4302432552108,
          874.973267580761,
          973.4705943388038,
          1081.8176537726786,
          1200.9994191499472,
          1332.0993610648961
         ],
         "xaxis": "x4",
         "y": [
          3.7840266342933616e-08,
          3.6410282373287274e-05,
          0.02947910107268876,
          0.9086562014046322,
          0.1906545933453041,
          0.014897187434880506,
          0.004958990688246867,
          0.0002890292647698859,
          2.9659325622540743e-06,
          1.0502313400880141e-07,
          2.2185031086967586e-08
         ],
         "yaxis": "y4"
        },
        {
         "line": {
          "color": "skyblue",
          "dash": "dash",
          "shape": "spline",
          "width": 2
         },
         "showlegend": false,
         "type": "scatter",
         "x": [
          445.99173134922233,
          501.59090448408034,
          562.7499949326351,
          630.024994425837,
          704.0274938684597,
          785.4302432552108,
          874.973267580761,
          973.4705943388038,
          1081.8176537726786,
          1200.9994191499472,
          1332.0993610648961
         ],
         "xaxis": "x4",
         "y": [
          -3.465900353575522e-08,
          -2.2909653245632602e-05,
          0.0072320575429721,
          0.7774699051322733,
          0.06525723112080445,
          0.0008928289252379956,
          0.00026251369148548673,
          -6.405608009111688e-05,
          -2.0599687228781957e-06,
          -9.625290769957439e-08,
          -1.8956608542706304e-08
         ],
         "yaxis": "y4"
        }
       ],
       "layout": {
        "annotations": [
         {
          "font": {
           "size": 16
          },
          "showarrow": false,
          "text": "Single subjects",
          "x": 0.225,
          "xanchor": "center",
          "xref": "paper",
          "y": 1,
          "yanchor": "bottom",
          "yref": "paper"
         },
         {
          "font": {
           "size": 16
          },
          "showarrow": false,
          "text": "Group average",
          "x": 0.775,
          "xanchor": "center",
          "xref": "paper",
          "y": 1,
          "yanchor": "bottom",
          "yref": "paper"
         },
         {
          "font": {
           "size": 16
          },
          "showarrow": false,
          "text": "Physical time intervall (ms)",
          "x": 0.5,
          "xanchor": "center",
          "xref": "paper",
          "y": 0,
          "yanchor": "top",
          "yref": "paper",
          "yshift": -30
         },
         {
          "font": {
           "size": 16
          },
          "showarrow": false,
          "text": "Probability density",
          "textangle": -90,
          "x": 0,
          "xanchor": "right",
          "xref": "paper",
          "xshift": -40,
          "y": 0.5,
          "yanchor": "middle",
          "yref": "paper"
         }
        ],
        "height": 500,
        "template": {
         "data": {
          "bar": [
           {
            "error_x": {
             "color": "#2a3f5f"
            },
            "error_y": {
             "color": "#2a3f5f"
            },
            "marker": {
             "line": {
              "color": "#E5ECF6",
              "width": 0.5
             }
            },
            "type": "bar"
           }
          ],
          "barpolar": [
           {
            "marker": {
             "line": {
              "color": "#E5ECF6",
              "width": 0.5
             }
            },
            "type": "barpolar"
           }
          ],
          "carpet": [
           {
            "aaxis": {
             "endlinecolor": "#2a3f5f",
             "gridcolor": "white",
             "linecolor": "white",
             "minorgridcolor": "white",
             "startlinecolor": "#2a3f5f"
            },
            "baxis": {
             "endlinecolor": "#2a3f5f",
             "gridcolor": "white",
             "linecolor": "white",
             "minorgridcolor": "white",
             "startlinecolor": "#2a3f5f"
            },
            "type": "carpet"
           }
          ],
          "choropleth": [
           {
            "colorbar": {
             "outlinewidth": 0,
             "ticks": ""
            },
            "type": "choropleth"
           }
          ],
          "contour": [
           {
            "colorbar": {
             "outlinewidth": 0,
             "ticks": ""
            },
            "colorscale": [
             [
              0,
              "#0d0887"
             ],
             [
              0.1111111111111111,
              "#46039f"
             ],
             [
              0.2222222222222222,
              "#7201a8"
             ],
             [
              0.3333333333333333,
              "#9c179e"
             ],
             [
              0.4444444444444444,
              "#bd3786"
             ],
             [
              0.5555555555555556,
              "#d8576b"
             ],
             [
              0.6666666666666666,
              "#ed7953"
             ],
             [
              0.7777777777777778,
              "#fb9f3a"
             ],
             [
              0.8888888888888888,
              "#fdca26"
             ],
             [
              1,
              "#f0f921"
             ]
            ],
            "type": "contour"
           }
          ],
          "contourcarpet": [
           {
            "colorbar": {
             "outlinewidth": 0,
             "ticks": ""
            },
            "type": "contourcarpet"
           }
          ],
          "heatmap": [
           {
            "colorbar": {
             "outlinewidth": 0,
             "ticks": ""
            },
            "colorscale": [
             [
              0,
              "#0d0887"
             ],
             [
              0.1111111111111111,
              "#46039f"
             ],
             [
              0.2222222222222222,
              "#7201a8"
             ],
             [
              0.3333333333333333,
              "#9c179e"
             ],
             [
              0.4444444444444444,
              "#bd3786"
             ],
             [
              0.5555555555555556,
              "#d8576b"
             ],
             [
              0.6666666666666666,
              "#ed7953"
             ],
             [
              0.7777777777777778,
              "#fb9f3a"
             ],
             [
              0.8888888888888888,
              "#fdca26"
             ],
             [
              1,
              "#f0f921"
             ]
            ],
            "type": "heatmap"
           }
          ],
          "heatmapgl": [
           {
            "colorbar": {
             "outlinewidth": 0,
             "ticks": ""
            },
            "colorscale": [
             [
              0,
              "#0d0887"
             ],
             [
              0.1111111111111111,
              "#46039f"
             ],
             [
              0.2222222222222222,
              "#7201a8"
             ],
             [
              0.3333333333333333,
              "#9c179e"
             ],
             [
              0.4444444444444444,
              "#bd3786"
             ],
             [
              0.5555555555555556,
              "#d8576b"
             ],
             [
              0.6666666666666666,
              "#ed7953"
             ],
             [
              0.7777777777777778,
              "#fb9f3a"
             ],
             [
              0.8888888888888888,
              "#fdca26"
             ],
             [
              1,
              "#f0f921"
             ]
            ],
            "type": "heatmapgl"
           }
          ],
          "histogram": [
           {
            "marker": {
             "colorbar": {
              "outlinewidth": 0,
              "ticks": ""
             }
            },
            "type": "histogram"
           }
          ],
          "histogram2d": [
           {
            "colorbar": {
             "outlinewidth": 0,
             "ticks": ""
            },
            "colorscale": [
             [
              0,
              "#0d0887"
             ],
             [
              0.1111111111111111,
              "#46039f"
             ],
             [
              0.2222222222222222,
              "#7201a8"
             ],
             [
              0.3333333333333333,
              "#9c179e"
             ],
             [
              0.4444444444444444,
              "#bd3786"
             ],
             [
              0.5555555555555556,
              "#d8576b"
             ],
             [
              0.6666666666666666,
              "#ed7953"
             ],
             [
              0.7777777777777778,
              "#fb9f3a"
             ],
             [
              0.8888888888888888,
              "#fdca26"
             ],
             [
              1,
              "#f0f921"
             ]
            ],
            "type": "histogram2d"
           }
          ],
          "histogram2dcontour": [
           {
            "colorbar": {
             "outlinewidth": 0,
             "ticks": ""
            },
            "colorscale": [
             [
              0,
              "#0d0887"
             ],
             [
              0.1111111111111111,
              "#46039f"
             ],
             [
              0.2222222222222222,
              "#7201a8"
             ],
             [
              0.3333333333333333,
              "#9c179e"
             ],
             [
              0.4444444444444444,
              "#bd3786"
             ],
             [
              0.5555555555555556,
              "#d8576b"
             ],
             [
              0.6666666666666666,
              "#ed7953"
             ],
             [
              0.7777777777777778,
              "#fb9f3a"
             ],
             [
              0.8888888888888888,
              "#fdca26"
             ],
             [
              1,
              "#f0f921"
             ]
            ],
            "type": "histogram2dcontour"
           }
          ],
          "mesh3d": [
           {
            "colorbar": {
             "outlinewidth": 0,
             "ticks": ""
            },
            "type": "mesh3d"
           }
          ],
          "parcoords": [
           {
            "line": {
             "colorbar": {
              "outlinewidth": 0,
              "ticks": ""
             }
            },
            "type": "parcoords"
           }
          ],
          "pie": [
           {
            "automargin": true,
            "type": "pie"
           }
          ],
          "scatter": [
           {
            "marker": {
             "colorbar": {
              "outlinewidth": 0,
              "ticks": ""
             }
            },
            "type": "scatter"
           }
          ],
          "scatter3d": [
           {
            "line": {
             "colorbar": {
              "outlinewidth": 0,
              "ticks": ""
             }
            },
            "marker": {
             "colorbar": {
              "outlinewidth": 0,
              "ticks": ""
             }
            },
            "type": "scatter3d"
           }
          ],
          "scattercarpet": [
           {
            "marker": {
             "colorbar": {
              "outlinewidth": 0,
              "ticks": ""
             }
            },
            "type": "scattercarpet"
           }
          ],
          "scattergeo": [
           {
            "marker": {
             "colorbar": {
              "outlinewidth": 0,
              "ticks": ""
             }
            },
            "type": "scattergeo"
           }
          ],
          "scattergl": [
           {
            "marker": {
             "colorbar": {
              "outlinewidth": 0,
              "ticks": ""
             }
            },
            "type": "scattergl"
           }
          ],
          "scattermapbox": [
           {
            "marker": {
             "colorbar": {
              "outlinewidth": 0,
              "ticks": ""
             }
            },
            "type": "scattermapbox"
           }
          ],
          "scatterpolar": [
           {
            "marker": {
             "colorbar": {
              "outlinewidth": 0,
              "ticks": ""
             }
            },
            "type": "scatterpolar"
           }
          ],
          "scatterpolargl": [
           {
            "marker": {
             "colorbar": {
              "outlinewidth": 0,
              "ticks": ""
             }
            },
            "type": "scatterpolargl"
           }
          ],
          "scatterternary": [
           {
            "marker": {
             "colorbar": {
              "outlinewidth": 0,
              "ticks": ""
             }
            },
            "type": "scatterternary"
           }
          ],
          "surface": [
           {
            "colorbar": {
             "outlinewidth": 0,
             "ticks": ""
            },
            "colorscale": [
             [
              0,
              "#0d0887"
             ],
             [
              0.1111111111111111,
              "#46039f"
             ],
             [
              0.2222222222222222,
              "#7201a8"
             ],
             [
              0.3333333333333333,
              "#9c179e"
             ],
             [
              0.4444444444444444,
              "#bd3786"
             ],
             [
              0.5555555555555556,
              "#d8576b"
             ],
             [
              0.6666666666666666,
              "#ed7953"
             ],
             [
              0.7777777777777778,
              "#fb9f3a"
             ],
             [
              0.8888888888888888,
              "#fdca26"
             ],
             [
              1,
              "#f0f921"
             ]
            ],
            "type": "surface"
           }
          ],
          "table": [
           {
            "cells": {
             "fill": {
              "color": "#EBF0F8"
             },
             "line": {
              "color": "white"
             }
            },
            "header": {
             "fill": {
              "color": "#C8D4E3"
             },
             "line": {
              "color": "white"
             }
            },
            "type": "table"
           }
          ]
         },
         "layout": {
          "annotationdefaults": {
           "arrowcolor": "#2a3f5f",
           "arrowhead": 0,
           "arrowwidth": 1
          },
          "coloraxis": {
           "colorbar": {
            "outlinewidth": 0,
            "ticks": ""
           }
          },
          "colorscale": {
           "diverging": [
            [
             0,
             "#8e0152"
            ],
            [
             0.1,
             "#c51b7d"
            ],
            [
             0.2,
             "#de77ae"
            ],
            [
             0.3,
             "#f1b6da"
            ],
            [
             0.4,
             "#fde0ef"
            ],
            [
             0.5,
             "#f7f7f7"
            ],
            [
             0.6,
             "#e6f5d0"
            ],
            [
             0.7,
             "#b8e186"
            ],
            [
             0.8,
             "#7fbc41"
            ],
            [
             0.9,
             "#4d9221"
            ],
            [
             1,
             "#276419"
            ]
           ],
           "sequential": [
            [
             0,
             "#0d0887"
            ],
            [
             0.1111111111111111,
             "#46039f"
            ],
            [
             0.2222222222222222,
             "#7201a8"
            ],
            [
             0.3333333333333333,
             "#9c179e"
            ],
            [
             0.4444444444444444,
             "#bd3786"
            ],
            [
             0.5555555555555556,
             "#d8576b"
            ],
            [
             0.6666666666666666,
             "#ed7953"
            ],
            [
             0.7777777777777778,
             "#fb9f3a"
            ],
            [
             0.8888888888888888,
             "#fdca26"
            ],
            [
             1,
             "#f0f921"
            ]
           ],
           "sequentialminus": [
            [
             0,
             "#0d0887"
            ],
            [
             0.1111111111111111,
             "#46039f"
            ],
            [
             0.2222222222222222,
             "#7201a8"
            ],
            [
             0.3333333333333333,
             "#9c179e"
            ],
            [
             0.4444444444444444,
             "#bd3786"
            ],
            [
             0.5555555555555556,
             "#d8576b"
            ],
            [
             0.6666666666666666,
             "#ed7953"
            ],
            [
             0.7777777777777778,
             "#fb9f3a"
            ],
            [
             0.8888888888888888,
             "#fdca26"
            ],
            [
             1,
             "#f0f921"
            ]
           ]
          },
          "colorway": [
           "#636efa",
           "#EF553B",
           "#00cc96",
           "#ab63fa",
           "#FFA15A",
           "#19d3f3",
           "#FF6692",
           "#B6E880",
           "#FF97FF",
           "#FECB52"
          ],
          "font": {
           "color": "#2a3f5f"
          },
          "geo": {
           "bgcolor": "white",
           "lakecolor": "white",
           "landcolor": "#E5ECF6",
           "showlakes": true,
           "showland": true,
           "subunitcolor": "white"
          },
          "hoverlabel": {
           "align": "left"
          },
          "hovermode": "closest",
          "mapbox": {
           "style": "light"
          },
          "paper_bgcolor": "white",
          "plot_bgcolor": "#E5ECF6",
          "polar": {
           "angularaxis": {
            "gridcolor": "white",
            "linecolor": "white",
            "ticks": ""
           },
           "bgcolor": "#E5ECF6",
           "radialaxis": {
            "gridcolor": "white",
            "linecolor": "white",
            "ticks": ""
           }
          },
          "scene": {
           "xaxis": {
            "backgroundcolor": "#E5ECF6",
            "gridcolor": "white",
            "gridwidth": 2,
            "linecolor": "white",
            "showbackground": true,
            "ticks": "",
            "zerolinecolor": "white"
           },
           "yaxis": {
            "backgroundcolor": "#E5ECF6",
            "gridcolor": "white",
            "gridwidth": 2,
            "linecolor": "white",
            "showbackground": true,
            "ticks": "",
            "zerolinecolor": "white"
           },
           "zaxis": {
            "backgroundcolor": "#E5ECF6",
            "gridcolor": "white",
            "gridwidth": 2,
            "linecolor": "white",
            "showbackground": true,
            "ticks": "",
            "zerolinecolor": "white"
           }
          },
          "shapedefaults": {
           "line": {
            "color": "#2a3f5f"
           }
          },
          "ternary": {
           "aaxis": {
            "gridcolor": "white",
            "linecolor": "white",
            "ticks": ""
           },
           "baxis": {
            "gridcolor": "white",
            "linecolor": "white",
            "ticks": ""
           },
           "bgcolor": "#E5ECF6",
           "caxis": {
            "gridcolor": "white",
            "linecolor": "white",
            "ticks": ""
           }
          },
          "title": {
           "x": 0.05
          },
          "xaxis": {
           "automargin": true,
           "gridcolor": "white",
           "linecolor": "white",
           "ticks": "",
           "title": {
            "standoff": 15
           },
           "zerolinecolor": "white",
           "zerolinewidth": 2
          },
          "yaxis": {
           "automargin": true,
           "gridcolor": "white",
           "linecolor": "white",
           "ticks": "",
           "title": {
            "standoff": 15
           },
           "zerolinecolor": "white",
           "zerolinewidth": 2
          }
         }
        },
        "width": 950,
        "xaxis": {
         "anchor": "y",
         "domain": [
          0,
          0.45
         ],
         "dtick": 150,
         "tick0": 300,
         "tickmode": "linear"
        },
        "xaxis2": {
         "anchor": "y2",
         "domain": [
          0.55,
          1
         ],
         "dtick": 150,
         "tick0": 300,
         "tickmode": "linear"
        },
        "xaxis3": {
         "anchor": "y3",
         "domain": [
          0,
          0.45
         ],
         "dtick": 150,
         "tick0": 450,
         "tickmode": "linear"
        },
        "xaxis4": {
         "anchor": "y4",
         "domain": [
          0.55,
          1
         ],
         "dtick": 150,
         "tick0": 450,
         "tickmode": "linear"
        },
        "yaxis": {
         "anchor": "x",
         "domain": [
          0.55,
          1
         ],
         "dtick": 0.2,
         "tick0": 0,
         "tickmode": "linear"
        },
        "yaxis2": {
         "anchor": "x2",
         "domain": [
          0.55,
          1
         ],
         "dtick": 0.2,
         "matches": "y",
         "showticklabels": false,
         "tick0": 0,
         "tickmode": "linear"
        },
        "yaxis3": {
         "anchor": "x3",
         "domain": [
          0,
          0.45
         ],
         "dtick": 0.2,
         "tick0": 0,
         "tickmode": "linear"
        },
        "yaxis4": {
         "anchor": "x4",
         "domain": [
          0,
          0.45
         ],
         "dtick": 0.2,
         "matches": "y3",
         "showticklabels": false,
         "tick0": 0,
         "tickmode": "linear"
        }
       }
      },
      "text/html": [
       "<div>                            <div id=\"4b5a95b3-651a-4b18-aacb-f9c8c6ed458e\" class=\"plotly-graph-div\" style=\"height:500px; width:950px;\"></div>            <script type=\"text/javascript\">                require([\"plotly\"], function(Plotly) {                    window.PLOTLYENV=window.PLOTLYENV || {};                                    if (document.getElementById(\"4b5a95b3-651a-4b18-aacb-f9c8c6ed458e\")) {                    Plotly.newPlot(                        \"4b5a95b3-651a-4b18-aacb-f9c8c6ed458e\",                        [{\"line\": {\"color\": \"red\", \"shape\": \"spline\"}, \"name\": \"individual: Short Uniform\", \"type\": \"scatter\", \"x\": [349.49729863571827, 395.4470284992914, 445.9917313492194, 501.5909044841505, 562.7499949325577, 630.0249944258222, 704.0274938683843, 785.4302432552296, 874.9732675807609, 973.4705943388398], \"xaxis\": \"x\", \"y\": [9.260470364423912e-08, 0.009184921617292762, 0.0574969548270634, 0.22719172960228728, 0.16948197022490383, 0.22813233689818163, 0.2184735191762008, 0.08987567252101702, 0.00016214134370080055, 6.611846486872508e-07], \"yaxis\": \"y\"}, {\"line\": {\"color\": \"red\", \"dash\": \"dash\", \"shape\": \"spline\", \"width\": 2}, \"showlegend\": false, \"type\": \"scatter\", \"x\": [349.49729863571827, 395.4470284992914, 445.9917313492194, 501.5909044841505, 562.7499949325577, 630.0249944258222, 704.0274938683843, 785.4302432552296, 874.9732675807609, 973.4705943388398], \"xaxis\": \"x\", \"y\": [8.073280970880645e-07, 0.014152818045067662, 0.08652839168457738, 0.3028117319246016, 0.22808463887366504, 0.31194968990812366, 0.2889230098055493, 0.12560066724669125, 0.00037417596034439453, 3.473273215636481e-06], \"yaxis\": \"y\"}, {\"line\": {\"color\": \"red\", \"dash\": \"dash\", \"shape\": \"spline\", \"width\": 2}, \"showlegend\": false, \"type\": \"scatter\", \"x\": [349.49729863571827, 395.4470284992914, 445.9917313492194, 501.5909044841505, 562.7499949325577, 630.0249944258222, 704.0274938683843, 785.4302432552296, 874.9732675807609, 973.4705943388398], \"xaxis\": \"x\", \"y\": [-6.221186897995862e-07, 0.0042170251895178625, 0.028465517969549426, 0.15157172727997298, 0.11087930157614262, 0.1443149838882396, 0.14802402854685232, 0.0541506777953428, -4.989327294279341e-05, -2.1509039182619797e-06], \"yaxis\": \"y\"}, {\"line\": {\"color\": \"lightgreen\", \"shape\": \"spline\"}, \"name\": \"individual: Long Uniform\", \"type\": \"scatter\", \"x\": [562.7499949325577, 630.0249944258225, 704.0274938683837, 785.4302432552291, 874.9732675807593, 973.4705943388398, 1081.8176537727422, 1200.999419149969, 1332.0993610649987, 1476.3092971714877], \"xaxis\": \"x\", \"y\": [1.111465573932752e-09, 0.0001341273251618258, 0.05173914789009417, 0.2018630600736133, 0.4157406107282949, 0.25044415070255743, 0.07976704532132316, 0.00031132690761525325, 5.291774886996163e-07, 7.623859081143156e-10], \"yaxis\": \"y\"}, {\"line\": {\"color\": \"lightgreen\", \"dash\": \"dash\", \"shape\": \"spline\", \"width\": 2}, \"showlegend\": false, \"type\": \"scatter\", \"x\": [562.7499949325577, 630.0249944258225, 704.0274938683837, 785.4302432552291, 874.9732675807593, 973.4705943388398, 1081.8176537727422, 1200.999419149969, 1332.0993610649987, 1476.3092971714877], \"xaxis\": \"x\", \"y\": [2.830126272246207e-08, 0.00030704813510857887, 0.07711262355962886, 0.26663630952599604, 0.5048560070332918, 0.3438114102984835, 0.11529214261569896, 0.0005817567711810796, 3.4572970343107992e-06, 1.909144230308673e-08], \"yaxis\": \"y\"}, {\"line\": {\"color\": \"lightgreen\", \"dash\": \"dash\", \"shape\": \"spline\", \"width\": 2}, \"showlegend\": false, \"type\": \"scatter\", \"x\": [562.7499949325577, 630.0249944258225, 704.0274938683837, 785.4302432552291, 874.9732675807593, 973.4705943388398, 1081.8176537727422, 1200.999419149969, 1332.0993610649987, 1476.3092971714877], \"xaxis\": \"x\", \"y\": [-2.6078331574596566e-08, -3.879348478492728e-05, 0.026365672220559473, 0.13708981062123052, 0.32662521442329795, 0.1570768911066314, 0.04424194802694735, 4.089704404942684e-05, -2.398942056911567e-06, -1.7566670486858095e-08], \"yaxis\": \"y\"}, {\"line\": {\"color\": \"darkgreen\", \"shape\": \"spline\"}, \"name\": \"individual: Medium Uniform\", \"type\": \"scatter\", \"x\": [445.9917313492181, 501.59090448415077, 562.7499949325577, 630.0249944258225, 704.0274938683833, 785.4302432552289, 874.9732675807585, 973.4705943388398, 1081.8176537727418, 1200.9994191499684, 1332.099361065001], \"xaxis\": \"x3\", \"y\": [9.566711062138657e-08, 2.926131508912069e-05, 0.0730710304202197, 0.10350021443772847, 0.21539102697835957, 0.3065394788050007, 0.2925392532025746, 0.008909505513206392, 2.0115746823999587e-05, 1.7912485984880863e-08, 1.4014082412882442e-12], \"yaxis\": \"y3\"}, {\"line\": {\"color\": \"darkgreen\", \"dash\": \"dash\", \"shape\": \"spline\", \"width\": 2}, \"showlegend\": false, \"type\": \"scatter\", \"x\": [445.9917313492181, 501.59090448415077, 562.7499949325577, 630.0249944258225, 704.0274938683833, 785.4302432552289, 874.9732675807585, 973.4705943388398, 1081.8176537727418, 1200.9994191499684, 1332.099361065001], \"xaxis\": \"x3\", \"y\": [1.5248377848404162e-06, 8.39621796301942e-05, 0.1113842295539749, 0.15192717162655928, 0.309086030743764, 0.40421121687680905, 0.41547377959511733, 0.016196315512177806, 6.635975607019085e-05, 3.111387079548398e-07, 4.963411395748184e-12], \"yaxis\": \"y3\"}, {\"line\": {\"color\": \"darkgreen\", \"dash\": \"dash\", \"shape\": \"spline\", \"width\": 2}, \"showlegend\": false, \"type\": \"scatter\", \"x\": [445.9917313492181, 501.59090448415077, 562.7499949325577, 630.0249944258225, 704.0274938683833, 785.4302432552289, 874.9732675807585, 973.4705943388398, 1081.8176537727418, 1200.9994191499684, 1332.099361065001], \"xaxis\": \"x3\", \"y\": [-1.3335035635976429e-06, -2.5439549451952823e-05, 0.03475783128646451, 0.05507325724889766, 0.12169602321295513, 0.20886774073319236, 0.1696047268100319, 0.001622695514234977, -2.6128262422191675e-05, -2.7531373598507803e-07, -2.160594913171695e-12], \"yaxis\": \"y3\"}, {\"line\": {\"color\": \"skyblue\", \"shape\": \"spline\"}, \"name\": \"individual: Medium Peaked\", \"type\": \"scatter\", \"x\": [445.991731349218, 501.59090448415077, 562.7499949325577, 630.0249944258225, 704.0274938683832, 785.4302432552288, 874.9732675807583, 973.4705943388398, 1081.817653772741, 1200.9994191499682], \"xaxis\": \"x3\", \"y\": [7.891723694481287e-15, 9.79254618279873e-07, 0.018388779757133995, 0.8393641542221186, 0.13539819668777206, 0.005703238584921379, 0.0010964929969889104, 4.811206720118118e-05, 4.6314313823926786e-08, 1.1492344549061857e-10], \"yaxis\": \"y3\"}, {\"line\": {\"color\": \"skyblue\", \"dash\": \"dash\", \"shape\": \"spline\", \"width\": 2}, \"showlegend\": false, \"type\": \"scatter\", \"x\": [445.991731349218, 501.59090448415077, 562.7499949325577, 630.0249944258225, 704.0274938683832, 785.4302432552288, 874.9732675807583, 973.4705943388398, 1081.817653772741, 1200.9994191499682], \"xaxis\": \"x3\", \"y\": [1.561159565522225e-14, 1.837227403638083e-06, 0.023202389097618504, 0.8788545573354696, 0.17341791966739442, 0.008154613084177451, 0.0014736408663442624, 7.443273960728967e-05, 1.3409545846598986e-07, 1.972294270464976e-09], \"yaxis\": \"y3\"}, {\"line\": {\"color\": \"skyblue\", \"dash\": \"dash\", \"shape\": \"spline\", \"width\": 2}, \"showlegend\": false, \"type\": \"scatter\", \"x\": [445.991731349218, 501.59090448415077, 562.7499949325577, 630.0249944258225, 704.0274938683832, 785.4302432552288, 874.9732675807583, 973.4705943388398, 1081.817653772741, 1200.9994191499682], \"xaxis\": \"x3\", \"y\": [1.7185173374032433e-16, 1.2128183292166318e-07, 0.013575170416649487, 0.7998737511087677, 0.0973784737081497, 0.0032518640856653075, 0.0007193451276335584, 2.1791394795072687e-05, -4.146683081813629e-08, -1.7424473794837388e-09], \"yaxis\": \"y3\"}, {\"line\": {\"color\": \"red\", \"shape\": \"spline\"}, \"name\": \"group: Short Uniform\", \"type\": \"scatter\", \"x\": [349.4972986357518, 395.44702849931343, 445.99173134920545, 501.59090448410257, 562.7499949326151, 630.024994425783, 704.0274938684446, 785.4302432552333, 874.9732675808174, 973.4705943387431, 1081.8176537727877], \"xaxis\": \"x2\", \"y\": [1.0738364319316587e-07, 0.0051346922244172085, 0.06006256637126551, 0.13539091866291122, 0.15916287709005403, 0.26097561833827077, 0.2715155781932951, 0.10708066882447702, 0.000676608964194637, 3.613141643870246e-07, 6.580589174471117e-09], \"yaxis\": \"y2\"}, {\"line\": {\"color\": \"red\", \"dash\": \"dash\", \"shape\": \"spline\", \"width\": 2}, \"showlegend\": false, \"type\": \"scatter\", \"x\": [349.4972986357518, 395.44702849931343, 445.99173134920545, 501.59090448410257, 562.7499949326151, 630.024994425783, 704.0274938684446, 785.4302432552333, 874.9732675808174, 973.4705943387431, 1081.8176537727877], \"xaxis\": \"x2\", \"y\": [7.37297370870651e-07, 0.00951250018713903, 0.09488429686708212, 0.21152480860744427, 0.22683758081264693, 0.35561447645754796, 0.3638848387696409, 0.15892719233469116, 0.001433708820946004, 2.6301537258759777e-06, 1.347535573484641e-07], \"yaxis\": \"y2\"}, {\"line\": {\"color\": \"red\", \"dash\": \"dash\", \"shape\": \"spline\", \"width\": 2}, \"showlegend\": false, \"type\": \"scatter\", \"x\": [349.4972986357518, 395.44702849931343, 445.99173134920545, 501.59090448410257, 562.7499949326151, 630.024994425783, 704.0274938684446, 785.4302432552333, 874.9732675808174, 973.4705943387431, 1081.8176537727877], \"xaxis\": \"x2\", \"y\": [-5.225300844843193e-07, 0.000756884261695386, 0.025240835875448897, 0.059257028718378194, 0.09148817336746114, 0.16633676021899357, 0.17914631761694927, 0.055234145314262864, -8.049089255672992e-05, -1.9075253971019286e-06, -1.2159237899952187e-07], \"yaxis\": \"y2\"}, {\"line\": {\"color\": \"lightgreen\", \"shape\": \"spline\"}, \"name\": \"group: Long Uniform\", \"type\": \"scatter\", \"x\": [562.7499949326213, 630.0249944258002, 704.0274938684494, 785.4302432552194, 874.9732675808207, 973.4705943387283, 1081.8176537727695, 1200.9994191499488, 1332.0993610649145, 1476.3092971714366], \"xaxis\": \"x2\", \"y\": [3.4625298496817054e-09, 0.00011771192014396104, 0.02840805090877624, 0.20247345062725, 0.37053536723135955, 0.34361154828884405, 0.054600735215808084, 0.000252363990915767, 7.666131401529077e-07, 1.741232599747829e-09], \"yaxis\": \"y2\"}, {\"line\": {\"color\": \"lightgreen\", \"dash\": \"dash\", \"shape\": \"spline\", \"width\": 2}, \"showlegend\": false, \"type\": \"scatter\", \"x\": [562.7499949326213, 630.0249944258002, 704.0274938684494, 785.4302432552194, 874.9732675808207, 973.4705943387283, 1081.8176537727695, 1200.9994191499488, 1332.0993610649145, 1476.3092971714366], \"xaxis\": \"x2\", \"y\": [6.856555482729929e-08, 0.0002658769153374654, 0.048762216474843356, 0.2720484206953223, 0.4768165503539738, 0.45678926835499667, 0.08319801634277894, 0.0004947742338902454, 3.327177155829027e-06, 4.603949044305524e-08], \"yaxis\": \"y2\"}, {\"line\": {\"color\": \"lightgreen\", \"dash\": \"dash\", \"shape\": \"spline\", \"width\": 2}, \"showlegend\": false, \"type\": \"scatter\", \"x\": [562.7499949326213, 630.0249944258002, 704.0274938684494, 785.4302432552194, 874.9732675808207, 973.4705943387283, 1081.8176537727695, 1200.9994191499488, 1332.0993610649145, 1476.3092971714366], \"xaxis\": \"x2\", \"y\": [-6.164049512793588e-08, -3.0453075049543336e-05, 0.008053885342709125, 0.13289848055917766, 0.2642541841087453, 0.23043382822269143, 0.02600345408883722, 9.953747941288539e-06, -1.793950875523212e-06, -4.255702524355958e-08], \"yaxis\": \"y2\"}, {\"line\": {\"color\": \"darkgreen\", \"shape\": \"spline\"}, \"name\": \"group: Medium Uniform\", \"type\": \"scatter\", \"x\": [445.9917313492249, 501.5909044840796, 562.7499949326358, 630.0249944258387, 704.0274938684602, 785.4302432552166, 874.9732675807549, 973.4705943388082, 1081.8176537726745, 1200.999419149947, 1332.0993610648952], \"xaxis\": \"x4\", \"y\": [2.7826754594094476e-08, 4.929841108238569e-05, 0.03905865030927582, 0.12164378074308323, 0.23821713750291473, 0.3816389114947976, 0.20399635049131534, 0.015356137256359717, 3.966422179329992e-05, 4.4462061508365016e-08, 8.408256404052036e-09], \"yaxis\": \"y4\"}, {\"line\": {\"color\": \"darkgreen\", \"dash\": \"dash\", \"shape\": \"spline\", \"width\": 2}, \"showlegend\": false, \"type\": \"scatter\", \"x\": [445.9917313492249, 501.5909044840796, 562.7499949326358, 630.0249944258387, 704.0274938684602, 785.4302432552166, 874.9732675807549, 973.4705943388082, 1081.8176537726745, 1200.999419149947, 1332.0993610648952], \"xaxis\": \"x4\", \"y\": [7.291109133565169e-07, 0.00016079611018523788, 0.07319334210641379, 0.18456881559093113, 0.3410984313884752, 0.5109947041501963, 0.3169001310952889, 0.029016945015934326, 0.00012873069772443744, 1.0213048774584035e-06, 3.2086100050066175e-07], \"yaxis\": \"y4\"}, {\"line\": {\"color\": \"darkgreen\", \"dash\": \"dash\", \"shape\": \"spline\", \"width\": 2}, \"showlegend\": false, \"type\": \"scatter\", \"x\": [445.9917313492249, 501.5909044840796, 562.7499949326358, 630.0249944258387, 704.0274938684602, 785.4302432552166, 874.9732675807549, 973.4705943388082, 1081.8176537726745, 1200.999419149947, 1332.0993610648952], \"xaxis\": \"x4\", \"y\": [-6.734574041683281e-07, -6.219928802046652e-05, 0.004923958512137852, 0.05871874589523532, 0.13533584361735432, 0.25228311883939886, 0.0910925698873418, 0.0016953294967851102, -4.940225413783759e-05, -9.323807544416734e-07, -3.0404448769255763e-07], \"yaxis\": \"y4\"}, {\"line\": {\"color\": \"skyblue\", \"shape\": \"spline\"}, \"name\": \"group: Medium Peaked\", \"type\": \"scatter\", \"x\": [445.99173134922233, 501.59090448408034, 562.7499949326351, 630.024994425837, 704.0274938684597, 785.4302432552108, 874.973267580761, 973.4705943388038, 1081.8176537726786, 1200.9994191499472, 1332.0993610648961], \"xaxis\": \"x4\", \"y\": [1.5906314035891968e-09, 6.750314563827334e-06, 0.018355579307830428, 0.8430630532684528, 0.12795591223305428, 0.00789500818005925, 0.002610752189866177, 0.00011248659233938453, 4.529819196879395e-07, 4.385113154613507e-09, 1.6142112721306394e-09], \"yaxis\": \"y4\"}, {\"line\": {\"color\": \"skyblue\", \"dash\": \"dash\", \"shape\": \"spline\", \"width\": 2}, \"showlegend\": false, \"type\": \"scatter\", \"x\": [445.99173134922233, 501.59090448408034, 562.7499949326351, 630.024994425837, 704.0274938684597, 785.4302432552108, 874.973267580761, 973.4705943388038, 1081.8176537726786, 1200.9994191499472, 1332.0993610648961], \"xaxis\": \"x4\", \"y\": [3.7840266342933616e-08, 3.6410282373287274e-05, 0.02947910107268876, 0.9086562014046322, 0.1906545933453041, 0.014897187434880506, 0.004958990688246867, 0.0002890292647698859, 2.9659325622540743e-06, 1.0502313400880141e-07, 2.2185031086967586e-08], \"yaxis\": \"y4\"}, {\"line\": {\"color\": \"skyblue\", \"dash\": \"dash\", \"shape\": \"spline\", \"width\": 2}, \"showlegend\": false, \"type\": \"scatter\", \"x\": [445.99173134922233, 501.59090448408034, 562.7499949326351, 630.024994425837, 704.0274938684597, 785.4302432552108, 874.973267580761, 973.4705943388038, 1081.8176537726786, 1200.9994191499472, 1332.0993610648961], \"xaxis\": \"x4\", \"y\": [-3.465900353575522e-08, -2.2909653245632602e-05, 0.0072320575429721, 0.7774699051322733, 0.06525723112080445, 0.0008928289252379956, 0.00026251369148548673, -6.405608009111688e-05, -2.0599687228781957e-06, -9.625290769957439e-08, -1.8956608542706304e-08], \"yaxis\": \"y4\"}],                        {\"annotations\": [{\"font\": {\"size\": 16}, \"showarrow\": false, \"text\": \"Single subjects\", \"x\": 0.225, \"xanchor\": \"center\", \"xref\": \"paper\", \"y\": 1.0, \"yanchor\": \"bottom\", \"yref\": \"paper\"}, {\"font\": {\"size\": 16}, \"showarrow\": false, \"text\": \"Group average\", \"x\": 0.775, \"xanchor\": \"center\", \"xref\": \"paper\", \"y\": 1.0, \"yanchor\": \"bottom\", \"yref\": \"paper\"}, {\"font\": {\"size\": 16}, \"showarrow\": false, \"text\": \"Physical time intervall (ms)\", \"x\": 0.5, \"xanchor\": \"center\", \"xref\": \"paper\", \"y\": 0, \"yanchor\": \"top\", \"yref\": \"paper\", \"yshift\": -30}, {\"font\": {\"size\": 16}, \"showarrow\": false, \"text\": \"Probability density\", \"textangle\": -90, \"x\": 0, \"xanchor\": \"right\", \"xref\": \"paper\", \"xshift\": -40, \"y\": 0.5, \"yanchor\": \"middle\", \"yref\": \"paper\"}], \"height\": 500, \"template\": {\"data\": {\"bar\": [{\"error_x\": {\"color\": \"#2a3f5f\"}, \"error_y\": {\"color\": \"#2a3f5f\"}, \"marker\": {\"line\": {\"color\": \"#E5ECF6\", \"width\": 0.5}}, \"type\": \"bar\"}], \"barpolar\": [{\"marker\": {\"line\": {\"color\": \"#E5ECF6\", \"width\": 0.5}}, \"type\": \"barpolar\"}], \"carpet\": [{\"aaxis\": {\"endlinecolor\": \"#2a3f5f\", \"gridcolor\": \"white\", \"linecolor\": \"white\", \"minorgridcolor\": \"white\", \"startlinecolor\": \"#2a3f5f\"}, \"baxis\": {\"endlinecolor\": \"#2a3f5f\", \"gridcolor\": \"white\", \"linecolor\": \"white\", \"minorgridcolor\": \"white\", \"startlinecolor\": \"#2a3f5f\"}, \"type\": \"carpet\"}], \"choropleth\": [{\"colorbar\": {\"outlinewidth\": 0, \"ticks\": \"\"}, \"type\": \"choropleth\"}], \"contour\": [{\"colorbar\": {\"outlinewidth\": 0, \"ticks\": \"\"}, \"colorscale\": [[0.0, \"#0d0887\"], [0.1111111111111111, \"#46039f\"], [0.2222222222222222, \"#7201a8\"], [0.3333333333333333, \"#9c179e\"], [0.4444444444444444, \"#bd3786\"], [0.5555555555555556, \"#d8576b\"], [0.6666666666666666, \"#ed7953\"], [0.7777777777777778, \"#fb9f3a\"], [0.8888888888888888, \"#fdca26\"], [1.0, \"#f0f921\"]], \"type\": \"contour\"}], \"contourcarpet\": [{\"colorbar\": {\"outlinewidth\": 0, \"ticks\": \"\"}, \"type\": \"contourcarpet\"}], \"heatmap\": [{\"colorbar\": {\"outlinewidth\": 0, \"ticks\": \"\"}, \"colorscale\": [[0.0, \"#0d0887\"], [0.1111111111111111, \"#46039f\"], [0.2222222222222222, \"#7201a8\"], [0.3333333333333333, \"#9c179e\"], [0.4444444444444444, \"#bd3786\"], [0.5555555555555556, \"#d8576b\"], [0.6666666666666666, \"#ed7953\"], [0.7777777777777778, \"#fb9f3a\"], [0.8888888888888888, \"#fdca26\"], [1.0, \"#f0f921\"]], \"type\": \"heatmap\"}], \"heatmapgl\": [{\"colorbar\": {\"outlinewidth\": 0, \"ticks\": \"\"}, \"colorscale\": [[0.0, \"#0d0887\"], [0.1111111111111111, \"#46039f\"], [0.2222222222222222, \"#7201a8\"], [0.3333333333333333, \"#9c179e\"], [0.4444444444444444, \"#bd3786\"], [0.5555555555555556, \"#d8576b\"], [0.6666666666666666, \"#ed7953\"], [0.7777777777777778, \"#fb9f3a\"], [0.8888888888888888, \"#fdca26\"], [1.0, \"#f0f921\"]], \"type\": \"heatmapgl\"}], \"histogram\": [{\"marker\": {\"colorbar\": {\"outlinewidth\": 0, \"ticks\": \"\"}}, \"type\": \"histogram\"}], \"histogram2d\": [{\"colorbar\": {\"outlinewidth\": 0, \"ticks\": \"\"}, \"colorscale\": [[0.0, \"#0d0887\"], [0.1111111111111111, \"#46039f\"], [0.2222222222222222, \"#7201a8\"], [0.3333333333333333, \"#9c179e\"], [0.4444444444444444, \"#bd3786\"], [0.5555555555555556, \"#d8576b\"], [0.6666666666666666, \"#ed7953\"], [0.7777777777777778, \"#fb9f3a\"], [0.8888888888888888, \"#fdca26\"], [1.0, \"#f0f921\"]], \"type\": \"histogram2d\"}], \"histogram2dcontour\": [{\"colorbar\": {\"outlinewidth\": 0, \"ticks\": \"\"}, \"colorscale\": [[0.0, \"#0d0887\"], [0.1111111111111111, \"#46039f\"], [0.2222222222222222, \"#7201a8\"], [0.3333333333333333, \"#9c179e\"], [0.4444444444444444, \"#bd3786\"], [0.5555555555555556, \"#d8576b\"], [0.6666666666666666, \"#ed7953\"], [0.7777777777777778, \"#fb9f3a\"], [0.8888888888888888, \"#fdca26\"], [1.0, \"#f0f921\"]], \"type\": \"histogram2dcontour\"}], \"mesh3d\": [{\"colorbar\": {\"outlinewidth\": 0, \"ticks\": \"\"}, \"type\": \"mesh3d\"}], \"parcoords\": [{\"line\": {\"colorbar\": {\"outlinewidth\": 0, \"ticks\": \"\"}}, \"type\": \"parcoords\"}], \"pie\": [{\"automargin\": true, \"type\": \"pie\"}], \"scatter\": [{\"marker\": {\"colorbar\": {\"outlinewidth\": 0, \"ticks\": \"\"}}, \"type\": \"scatter\"}], \"scatter3d\": [{\"line\": {\"colorbar\": {\"outlinewidth\": 0, \"ticks\": \"\"}}, \"marker\": {\"colorbar\": {\"outlinewidth\": 0, \"ticks\": \"\"}}, \"type\": \"scatter3d\"}], \"scattercarpet\": [{\"marker\": {\"colorbar\": {\"outlinewidth\": 0, \"ticks\": \"\"}}, \"type\": \"scattercarpet\"}], \"scattergeo\": [{\"marker\": {\"colorbar\": {\"outlinewidth\": 0, \"ticks\": \"\"}}, \"type\": \"scattergeo\"}], \"scattergl\": [{\"marker\": {\"colorbar\": {\"outlinewidth\": 0, \"ticks\": \"\"}}, \"type\": \"scattergl\"}], \"scattermapbox\": [{\"marker\": {\"colorbar\": {\"outlinewidth\": 0, \"ticks\": \"\"}}, \"type\": \"scattermapbox\"}], \"scatterpolar\": [{\"marker\": {\"colorbar\": {\"outlinewidth\": 0, \"ticks\": \"\"}}, \"type\": \"scatterpolar\"}], \"scatterpolargl\": [{\"marker\": {\"colorbar\": {\"outlinewidth\": 0, \"ticks\": \"\"}}, \"type\": \"scatterpolargl\"}], \"scatterternary\": [{\"marker\": {\"colorbar\": {\"outlinewidth\": 0, \"ticks\": \"\"}}, \"type\": \"scatterternary\"}], \"surface\": [{\"colorbar\": {\"outlinewidth\": 0, \"ticks\": \"\"}, \"colorscale\": [[0.0, \"#0d0887\"], [0.1111111111111111, \"#46039f\"], [0.2222222222222222, \"#7201a8\"], [0.3333333333333333, \"#9c179e\"], [0.4444444444444444, \"#bd3786\"], [0.5555555555555556, \"#d8576b\"], [0.6666666666666666, \"#ed7953\"], [0.7777777777777778, \"#fb9f3a\"], [0.8888888888888888, \"#fdca26\"], [1.0, \"#f0f921\"]], \"type\": \"surface\"}], \"table\": [{\"cells\": {\"fill\": {\"color\": \"#EBF0F8\"}, \"line\": {\"color\": \"white\"}}, \"header\": {\"fill\": {\"color\": \"#C8D4E3\"}, \"line\": {\"color\": \"white\"}}, \"type\": \"table\"}]}, \"layout\": {\"annotationdefaults\": {\"arrowcolor\": \"#2a3f5f\", \"arrowhead\": 0, \"arrowwidth\": 1}, \"coloraxis\": {\"colorbar\": {\"outlinewidth\": 0, \"ticks\": \"\"}}, \"colorscale\": {\"diverging\": [[0, \"#8e0152\"], [0.1, \"#c51b7d\"], [0.2, \"#de77ae\"], [0.3, \"#f1b6da\"], [0.4, \"#fde0ef\"], [0.5, \"#f7f7f7\"], [0.6, \"#e6f5d0\"], [0.7, \"#b8e186\"], [0.8, \"#7fbc41\"], [0.9, \"#4d9221\"], [1, \"#276419\"]], \"sequential\": [[0.0, \"#0d0887\"], [0.1111111111111111, \"#46039f\"], [0.2222222222222222, \"#7201a8\"], [0.3333333333333333, \"#9c179e\"], [0.4444444444444444, \"#bd3786\"], [0.5555555555555556, \"#d8576b\"], [0.6666666666666666, \"#ed7953\"], [0.7777777777777778, \"#fb9f3a\"], [0.8888888888888888, \"#fdca26\"], [1.0, \"#f0f921\"]], \"sequentialminus\": [[0.0, \"#0d0887\"], [0.1111111111111111, \"#46039f\"], [0.2222222222222222, \"#7201a8\"], [0.3333333333333333, \"#9c179e\"], [0.4444444444444444, \"#bd3786\"], [0.5555555555555556, \"#d8576b\"], [0.6666666666666666, \"#ed7953\"], [0.7777777777777778, \"#fb9f3a\"], [0.8888888888888888, \"#fdca26\"], [1.0, \"#f0f921\"]]}, \"colorway\": [\"#636efa\", \"#EF553B\", \"#00cc96\", \"#ab63fa\", \"#FFA15A\", \"#19d3f3\", \"#FF6692\", \"#B6E880\", \"#FF97FF\", \"#FECB52\"], \"font\": {\"color\": \"#2a3f5f\"}, \"geo\": {\"bgcolor\": \"white\", \"lakecolor\": \"white\", \"landcolor\": \"#E5ECF6\", \"showlakes\": true, \"showland\": true, \"subunitcolor\": \"white\"}, \"hoverlabel\": {\"align\": \"left\"}, \"hovermode\": \"closest\", \"mapbox\": {\"style\": \"light\"}, \"paper_bgcolor\": \"white\", \"plot_bgcolor\": \"#E5ECF6\", \"polar\": {\"angularaxis\": {\"gridcolor\": \"white\", \"linecolor\": \"white\", \"ticks\": \"\"}, \"bgcolor\": \"#E5ECF6\", \"radialaxis\": {\"gridcolor\": \"white\", \"linecolor\": \"white\", \"ticks\": \"\"}}, \"scene\": {\"xaxis\": {\"backgroundcolor\": \"#E5ECF6\", \"gridcolor\": \"white\", \"gridwidth\": 2, \"linecolor\": \"white\", \"showbackground\": true, \"ticks\": \"\", \"zerolinecolor\": \"white\"}, \"yaxis\": {\"backgroundcolor\": \"#E5ECF6\", \"gridcolor\": \"white\", \"gridwidth\": 2, \"linecolor\": \"white\", \"showbackground\": true, \"ticks\": \"\", \"zerolinecolor\": \"white\"}, \"zaxis\": {\"backgroundcolor\": \"#E5ECF6\", \"gridcolor\": \"white\", \"gridwidth\": 2, \"linecolor\": \"white\", \"showbackground\": true, \"ticks\": \"\", \"zerolinecolor\": \"white\"}}, \"shapedefaults\": {\"line\": {\"color\": \"#2a3f5f\"}}, \"ternary\": {\"aaxis\": {\"gridcolor\": \"white\", \"linecolor\": \"white\", \"ticks\": \"\"}, \"baxis\": {\"gridcolor\": \"white\", \"linecolor\": \"white\", \"ticks\": \"\"}, \"bgcolor\": \"#E5ECF6\", \"caxis\": {\"gridcolor\": \"white\", \"linecolor\": \"white\", \"ticks\": \"\"}}, \"title\": {\"x\": 0.05}, \"xaxis\": {\"automargin\": true, \"gridcolor\": \"white\", \"linecolor\": \"white\", \"ticks\": \"\", \"title\": {\"standoff\": 15}, \"zerolinecolor\": \"white\", \"zerolinewidth\": 2}, \"yaxis\": {\"automargin\": true, \"gridcolor\": \"white\", \"linecolor\": \"white\", \"ticks\": \"\", \"title\": {\"standoff\": 15}, \"zerolinecolor\": \"white\", \"zerolinewidth\": 2}}}, \"width\": 950, \"xaxis\": {\"anchor\": \"y\", \"domain\": [0.0, 0.45], \"dtick\": 150, \"tick0\": 300, \"tickmode\": \"linear\"}, \"xaxis2\": {\"anchor\": \"y2\", \"domain\": [0.55, 1.0], \"dtick\": 150, \"tick0\": 300, \"tickmode\": \"linear\"}, \"xaxis3\": {\"anchor\": \"y3\", \"domain\": [0.0, 0.45], \"dtick\": 150, \"tick0\": 450, \"tickmode\": \"linear\"}, \"xaxis4\": {\"anchor\": \"y4\", \"domain\": [0.55, 1.0], \"dtick\": 150, \"tick0\": 450, \"tickmode\": \"linear\"}, \"yaxis\": {\"anchor\": \"x\", \"domain\": [0.55, 1.0], \"dtick\": 0.2, \"tick0\": 0, \"tickmode\": \"linear\"}, \"yaxis2\": {\"anchor\": \"x2\", \"domain\": [0.55, 1.0], \"dtick\": 0.2, \"matches\": \"y\", \"showticklabels\": false, \"tick0\": 0, \"tickmode\": \"linear\"}, \"yaxis3\": {\"anchor\": \"x3\", \"domain\": [0.0, 0.45], \"dtick\": 0.2, \"tick0\": 0, \"tickmode\": \"linear\"}, \"yaxis4\": {\"anchor\": \"x4\", \"domain\": [0.0, 0.45], \"dtick\": 0.2, \"matches\": \"y3\", \"showticklabels\": false, \"tick0\": 0, \"tickmode\": \"linear\"}},                        {\"responsive\": true}                    ).then(function(){\n",
       "                            \n",
       "var gd = document.getElementById('4b5a95b3-651a-4b18-aacb-f9c8c6ed458e');\n",
       "var x = new MutationObserver(function (mutations, observer) {{\n",
       "        var display = window.getComputedStyle(gd).display;\n",
       "        if (!display || display === 'none') {{\n",
       "            console.log([gd, 'removed!']);\n",
       "            Plotly.purge(gd);\n",
       "            observer.disconnect();\n",
       "        }}\n",
       "}});\n",
       "\n",
       "// Listen for the removal of the full notebook cells\n",
       "var notebookContainer = gd.closest('#notebook-container');\n",
       "if (notebookContainer) {{\n",
       "    x.observe(notebookContainer, {childList: true});\n",
       "}}\n",
       "\n",
       "// Listen for the clearing of the current output cell\n",
       "var outputEl = gd.closest('.output');\n",
       "if (outputEl) {{\n",
       "    x.observe(outputEl, {childList: true});\n",
       "}}\n",
       "\n",
       "                        })                };                });            </script>        </div>"
      ]
     },
     "metadata": {},
     "output_type": "display_data"
    }
   ],
   "source": [
    "# NEW End ------------------------------------------------------------  \n",
    "\n",
    "import plotly.graph_objects as go\n",
    "from plotly.subplots import make_subplots\n",
    "\n",
    "fig = make_subplots(rows=2, cols=2, shared_xaxes = False, shared_yaxes = True, \n",
    "                    subplot_titles=(\"Single subjects\", \"Group average\", None, None),\n",
    "                   y_title='Probability density',\n",
    "                    x_title='Physical time intervall (ms)',\n",
    "                    vertical_spacing=0.1)\n",
    "cols = {'Short Uniform': 'red', 'Long Uniform': 'lightgreen', 'Medium Uniform': 'darkgreen', 'Medium Peaked': 'skyblue'}\n",
    "# plotting individual and group priors\n",
    "for df_plot, plot in zip([df_priors_individual, df_priors], ['individual', 'group']):\n",
    "    if plot == 'individual':\n",
    "        move_position = -1\n",
    "    else: \n",
    "        move_position = 0\n",
    "    for cond, pos in zip(['Short Uniform', 'Long Uniform', 'Medium Uniform', 'Medium Peaked'],\n",
    "                         [[1, 2], [1, 2], [2, 2], [2, 2]]):\n",
    "    #    print(cond + str(pos))\n",
    "\n",
    "        points = df_plot[df_plot.cond == cond]\n",
    "        means = df_plot[df_plot.cond == cond].groupby('prior').mean()\n",
    "        sds = df_plot[df_plot.cond == cond].groupby('prior').std()\n",
    "        sd_upper = means + sds\n",
    "        sd_lower = means - sds\n",
    "\n",
    "\n",
    "\n",
    "        fig.add_trace(go.Scatter(x = means.ms,\n",
    "                                 y= means.pf, name=plot + ': ' +cond,\n",
    "                            line_shape='spline',\n",
    "                                line=dict(color=cols[cond])), row=pos[0], col=pos[1]+move_position)\n",
    "        fig.add_trace(go.Scatter(x = sd_upper.ms,\n",
    "                                 y= sd_upper.pf, showlegend=False,\n",
    "                            line_shape='spline', \n",
    "                            line=dict(color=cols[cond], width=2, dash='dash')\n",
    "                                ), row=pos[0], col=pos[1]+move_position)\n",
    "        fig.add_trace(go.Scatter(x = sd_lower.ms,\n",
    "                                 y= sd_lower.pf, showlegend=False,\n",
    "                            line_shape='spline',\n",
    "                            line=dict(color=cols[cond], width=2, dash='dash')\n",
    "                                ), row=pos[0], col=pos[1]+move_position)\n",
    "\n",
    "fig.update_layout(\n",
    "    xaxis1 = dict(\n",
    "        tickmode = 'linear',\n",
    "        tick0 = 300,\n",
    "        dtick = 150),\n",
    "    xaxis2 = dict(\n",
    "        tickmode = 'linear',\n",
    "        tick0 = 300,\n",
    "        dtick = 150),\n",
    "    xaxis3 = dict(\n",
    "        tickmode = 'linear',\n",
    "        tick0 = 450,\n",
    "        dtick = 150),\n",
    "    xaxis4 = dict(\n",
    "        tickmode = 'linear',\n",
    "        tick0 = 450,\n",
    "        dtick = 150),\n",
    "    yaxis1 = dict(\n",
    "        tickmode = 'linear',\n",
    "        tick0 = 0,\n",
    "        dtick = 0.2),\n",
    "    yaxis2 = dict(\n",
    "        tickmode = 'linear',\n",
    "        tick0 = 0,\n",
    "        dtick = 0.2),\n",
    "    yaxis3 = dict(\n",
    "        tickmode = 'linear',\n",
    "        tick0 = 0,\n",
    "        dtick = 0.2),\n",
    "    yaxis4 = dict(\n",
    "        tickmode = 'linear',\n",
    "        tick0 = 0,\n",
    "        dtick = 0.2)\n",
    ")\n",
    "\n",
    "fig.update_layout(width = 950, height = 500)\n",
    "# show as png (recognizable for pdf but no nice layout)\n",
    "fig.show('png' )\n",
    "\n",
    "# showing as interactive Plotly Graph (nicer, but not displayed in Notebook without code execution)\n",
    "fig.show()\n",
    "\n",
    "fig.write_image('plot7.png')\n",
    "\n",
    "# NEW End ------------------------------------------------------------  "
   ]
  }
 ],
 "metadata": {
  "kernelspec": {
   "display_name": "Python 3",
   "language": "python",
   "name": "python3"
  },
  "language_info": {
   "codemirror_mode": {
    "name": "ipython",
    "version": 3
   },
   "file_extension": ".py",
   "mimetype": "text/x-python",
   "name": "python",
   "nbconvert_exporter": "python",
   "pygments_lexer": "ipython3",
   "version": "3.7.8"
  }
 },
 "nbformat": 4,
 "nbformat_minor": 4
}

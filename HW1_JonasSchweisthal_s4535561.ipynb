{
 "cells": [
  {
   "cell_type": "markdown",
   "metadata": {},
   "source": [
    "### Homework \\#1\n",
    "Name: Jonas Schweisthal \\\n",
    "Student number: s4535561"
   ]
  },
  {
   "cell_type": "code",
   "execution_count": 1,
   "metadata": {},
   "outputs": [],
   "source": [
    "from model import Model\n",
    "from dmchunk import Chunk"
   ]
  },
  {
   "cell_type": "code",
   "execution_count": 2,
   "metadata": {},
   "outputs": [],
   "source": [
    "m = Model()"
   ]
  },
  {
   "cell_type": "code",
   "execution_count": 3,
   "metadata": {},
   "outputs": [],
   "source": [
    "numbers = [\"zero\",\"one\",\"two\",\"three\",\"four\",\"five\",\"six\", \"seven\", \"eight\", \"nine\", \"ten\", \"eleven\",\n",
    "          \"twelve\", \"thirteen\", \"fourteen\", \"fiveteen\",\"sixteen\", \"seventeen\", \"eighteen\", \"nineteen\", \"twenty\"]\n",
    "for i in range(0,len(numbers)-1):\n",
    "    fact = Chunk(name = \"cf\" + numbers[i], slots ={\"isa\":\"count-fact\", \"num1\": numbers[i], \"num2\" : numbers[i+1]})\n",
    "    m.add_encounter(fact)"
   ]
  },
  {
   "cell_type": "code",
   "execution_count": 4,
   "metadata": {},
   "outputs": [],
   "source": [
    "## old count function:\n",
    "\n",
    "# def count_from(start, end):\n",
    "#     g = Chunk(name = \"goal\", slots = {\"isa\":\"count-goal\",\"start\":start,\"end\":end})\n",
    "#     m.goal = g\n",
    "#     done = False\n",
    "#     while not done:\n",
    "#         try:\n",
    "#             if not \"current\" in g.slots:\n",
    "#                 g.slots[\"current\"] = g.slots[\"start\"]\n",
    "#                 request = Chunk(name = \"request\", slots = {\"isa\":\"count-fact\", \"num1\":g.slots[\"current\"]})\n",
    "#                 m.time += .05\n",
    "#                 chunk, latency = m.retrieve(request)\n",
    "#                 m.add_encounter(chunk)\n",
    "#                 m.time += latency\n",
    "#                 # print(m.time)\n",
    "#                 print(g.slots[\"current\"])\n",
    "#                 g.slots[\"current\"] = chunk.slots[\"num2\"]\n",
    "#                 m.time += 0.3\n",
    "#             elif g.slots[\"current\"] != g.slots[\"end\"]:\n",
    "#                 request = Chunk(name = \"request\", slots = {\"isa\":\"count-fact\", \"num1\":g.slots[\"current\"]})\n",
    "#                 m.time += .05\n",
    "#                 chunk, latency = m.retrieve(request)\n",
    "#                 m.add_encounter(chunk)\n",
    "#                 m.time += latency\n",
    "#                 # print(m.time)\n",
    "#                 print(g.slots[\"current\"])\n",
    "#                 g.slots[\"current\"] = chunk.slots[\"num2\"]\n",
    "#                 m.time += 0.3\n",
    "#             else:\n",
    "#                  #print(m.time)\n",
    "#                 print(g.slots[\"current\"])\n",
    "#                 done = True\n",
    "#         except:\n",
    "#             print(\"Error\")\n"
   ]
  },
  {
   "cell_type": "code",
   "execution_count": 5,
   "metadata": {},
   "outputs": [],
   "source": [
    "## pragmatic solution:\n",
    "\n",
    "# def pragmatic_add(start, end):\n",
    "#     count_end = numbers[numbers.index(start) + numbers.index(end)]\n",
    "#     count_from(start, count_end)"
   ]
  },
  {
   "cell_type": "code",
   "execution_count": 6,
   "metadata": {},
   "outputs": [],
   "source": [
    "# solution Homework 1:\n",
    "# adding tow numbers by counting\n",
    "\n",
    "def add(start, end):\n",
    "    \n",
    "    m.goal = g\n",
    "    done = False\n",
    "    while not done:\n",
    "        try:\n",
    "            if not \"current_sum\" in g.slots:\n",
    "                # initialize current sum and counter\n",
    "                g.slots[\"current_sum\"] = g.slots[\"start\"]\n",
    "                g.slots[\"current_count\"] = \"zero\"\n",
    "                request = Chunk(name = \"request\", slots = {\"isa\":\"count-fact\", \"num1\":g.slots[\"current_sum\"]})\n",
    "                m.time += .05\n",
    "                chunk, latency = m.retrieve(request)\n",
    "                m.add_encounter(chunk)\n",
    "                m.time += latency\n",
    "                \n",
    "                # checking if \"zero\" is added or if a counter is needed\n",
    "                if end != \"zero\":\n",
    "                # print(m.time)\n",
    "                    print(g.slots[\"current_sum\"])\n",
    "                    g.slots[\"current_sum\"] = chunk.slots[\"num2\"]\n",
    "                    request = Chunk(name = \"request\", slots = {\"isa\":\"count-fact\", \"num1\":g.slots[\"current_count\"]})\n",
    "                    m.time += .05\n",
    "                    chunk, latency = m.retrieve(request)\n",
    "                    m.add_encounter(chunk)\n",
    "                    m.time += latency\n",
    "                    g.slots[\"current_count\"] = chunk.slots[\"num2\"] \n",
    "                m.time += 0.3\n",
    "             \n",
    "            # checking if \"zero\" is added or if a counter is needed\n",
    "            elif g.slots[\"current_count\"] != g.slots[\"end\"] and end != \"zero\":\n",
    "                # adding/counting till end number is reached\n",
    "                request = Chunk(name = \"request\", slots = {\"isa\":\"count-fact\", \"num1\":g.slots[\"current_count\"]})\n",
    "                m.time += .05\n",
    "                chunk, latency = m.retrieve(request)\n",
    "                m.add_encounter(chunk)\n",
    "                m.time += latency\n",
    "                g.slots[\"current_count\"] = chunk.slots[\"num2\"]\n",
    "                request = Chunk(name = \"request\", slots = {\"isa\":\"count-fact\", \"num1\":g.slots[\"current_sum\"]})\n",
    "                m.time += .05\n",
    "                chunk, latency = m.retrieve(request)\n",
    "                m.add_encounter(chunk)\n",
    "                m.time += latency\n",
    "                # print(m.time)\n",
    "                print(g.slots[\"current_sum\"])\n",
    "                g.slots[\"current_sum\"] = chunk.slots[\"num2\"]\n",
    "                m.time += 0.3\n",
    "            else:\n",
    "                 #print(m.time)\n",
    "                print(g.slots[\"current_sum\"])\n",
    "                done = True\n",
    "        except:\n",
    "            print(\"Error: Number could not be retrieved\")\n"
   ]
  },
  {
   "cell_type": "code",
   "execution_count": 7,
   "metadata": {},
   "outputs": [
    {
     "name": "stdout",
     "output_type": "stream",
     "text": [
      "two\n",
      "three\n",
      "four\n",
      "five\n",
      "six\n"
     ]
    }
   ],
   "source": [
    "# Testing with example:\n",
    "add(\"two\", \"four\")"
   ]
  },
  {
   "cell_type": "code",
   "execution_count": 8,
   "metadata": {},
   "outputs": [],
   "source": [
    "# print(m)"
   ]
  }
 ],
 "metadata": {
  "kernelspec": {
   "display_name": "Python 3",
   "language": "python",
   "name": "python3"
  },
  "language_info": {
   "codemirror_mode": {
    "name": "ipython",
    "version": 3
   },
   "file_extension": ".py",
   "mimetype": "text/x-python",
   "name": "python",
   "nbconvert_exporter": "python",
   "pygments_lexer": "ipython3",
   "version": "3.7.8"
  }
 },
 "nbformat": 4,
 "nbformat_minor": 4
}
